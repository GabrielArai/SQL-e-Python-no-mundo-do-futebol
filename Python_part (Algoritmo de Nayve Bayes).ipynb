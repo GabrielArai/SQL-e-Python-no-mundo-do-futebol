{
 "cells": [
  {
   "cell_type": "markdown",
   "id": "1175f268",
   "metadata": {},
   "source": [
    "# *SQL e Python no Mundo do Futebol e suas possíveis aplicações*"
   ]
  },
  {
   "cell_type": "markdown",
   "id": "84fe7787",
   "metadata": {},
   "source": [
    "## <u>Com Python...<u/>"
   ]
  },
  {
   "cell_type": "markdown",
   "id": "ffafae9a",
   "metadata": {},
   "source": [
    "Ainda mantendo a ideia de uma empresa que vende relatórios de inteligência, utilizamos um novo dataset para a aplicação do algoritmo de naive-bayes (Multinomial), que irá funcionar como um classificador de sentimentos através de tweets de torcidas organizadas."
   ]
  },
  {
   "cell_type": "markdown",
   "id": "58298309",
   "metadata": {},
   "source": [
    "##### O que é o algoritmo de Nayve-bayes?"
   ]
  },
  {
   "cell_type": "markdown",
   "id": "a525b565",
   "metadata": {},
   "source": [
    "Naive Bayes usa um método similar para prever a probabilidade de classe diferente com base em vários atributos. Este algoritmo é usado principalmente em classificação de texto e com os problemas que têm múltiplas classes. O algoritmo utiliza a seguinte fórmula:\n",
    "![](Images/Nayve-Bayes1.JPG)"
   ]
  },
  {
   "cell_type": "markdown",
   "id": "1ac50865",
   "metadata": {},
   "source": [
    "#### Importando todas as bibliotecas necessárias"
   ]
  },
  {
   "cell_type": "code",
   "execution_count": 1,
   "id": "90e5f191",
   "metadata": {},
   "outputs": [],
   "source": [
    "from sklearn.model_selection import train_test_split\n",
    "from sklearn.metrics import confusion_matrix\n",
    "from sklearn.metrics import f1_score\n",
    "from sklearn.metrics import precision_score\n",
    "from sklearn.metrics import recall_score\n",
    "from sklearn.metrics import accuracy_score\n",
    "from sklearn.metrics import classification_report\n",
    "from sklearn.feature_extraction.text import CountVectorizer\n",
    "from sklearn.naive_bayes import MultinomialNB\n",
    "import numpy as np\n",
    "import pandas as pd\n",
    "import joblib"
   ]
  },
  {
   "cell_type": "markdown",
   "id": "6c7cf256",
   "metadata": {},
   "source": [
    "### Aplicando o algoritmo de Naive-Bayes(Multinomial)"
   ]
  },
  {
   "cell_type": "markdown",
   "id": "52f1b9c6",
   "metadata": {},
   "source": [
    "#### Leitura do dataframe"
   ]
  },
  {
   "cell_type": "code",
   "execution_count": 2,
   "id": "0de7629d",
   "metadata": {
    "scrolled": false
   },
   "outputs": [
    {
     "data": {
      "text/html": [
       "<div>\n",
       "<style scoped>\n",
       "    .dataframe tbody tr th:only-of-type {\n",
       "        vertical-align: middle;\n",
       "    }\n",
       "\n",
       "    .dataframe tbody tr th {\n",
       "        vertical-align: top;\n",
       "    }\n",
       "\n",
       "    .dataframe thead th {\n",
       "        text-align: right;\n",
       "    }\n",
       "</style>\n",
       "<table border=\"1\" class=\"dataframe\">\n",
       "  <thead>\n",
       "    <tr style=\"text-align: right;\">\n",
       "      <th></th>\n",
       "      <th>Time</th>\n",
       "      <th>Torcida Organizada</th>\n",
       "      <th>Data</th>\n",
       "      <th>Hora</th>\n",
       "      <th>Tweet</th>\n",
       "      <th>Positivo / Negativo</th>\n",
       "      <th>Conta</th>\n",
       "    </tr>\n",
       "  </thead>\n",
       "  <tbody>\n",
       "    <tr>\n",
       "      <th>0</th>\n",
       "      <td>Palmeiras</td>\n",
       "      <td>Mancha Verde</td>\n",
       "      <td>21/06/2021</td>\n",
       "      <td>00:43</td>\n",
       "      <td>E ai, @DpaulaPatrick ? As 14h17 recebemos essa...</td>\n",
       "      <td>Negativo</td>\n",
       "      <td>torcidamv83</td>\n",
       "    </tr>\n",
       "    <tr>\n",
       "      <th>1</th>\n",
       "      <td>Palmeiras</td>\n",
       "      <td>Mancha Verde</td>\n",
       "      <td>ind</td>\n",
       "      <td>ind</td>\n",
       "      <td>Ainda bem que desde a ultima tempo os jogadore...</td>\n",
       "      <td>Positivo</td>\n",
       "      <td>ind</td>\n",
       "    </tr>\n",
       "    <tr>\n",
       "      <th>2</th>\n",
       "      <td>Palmeiras</td>\n",
       "      <td>Mancha Verde</td>\n",
       "      <td>ind</td>\n",
       "      <td>ind</td>\n",
       "      <td>Em questao de salarios, o palmeiras esta conse...</td>\n",
       "      <td>Positivo</td>\n",
       "      <td>ind</td>\n",
       "    </tr>\n",
       "    <tr>\n",
       "      <th>3</th>\n",
       "      <td>Palmeiras</td>\n",
       "      <td>TUP</td>\n",
       "      <td>15/05/2021</td>\n",
       "      <td>22:02</td>\n",
       "      <td>E foda esses muleques que so pensam em TikTok ...</td>\n",
       "      <td>Negativo</td>\n",
       "      <td>tupminhavida</td>\n",
       "    </tr>\n",
       "    <tr>\n",
       "      <th>4</th>\n",
       "      <td>Palmeiras</td>\n",
       "      <td>TUP</td>\n",
       "      <td>ind</td>\n",
       "      <td>ind</td>\n",
       "      <td>Impressionante como o Bananotte e o Barros sao...</td>\n",
       "      <td>Negativo</td>\n",
       "      <td>ind</td>\n",
       "    </tr>\n",
       "    <tr>\n",
       "      <th>...</th>\n",
       "      <td>...</td>\n",
       "      <td>...</td>\n",
       "      <td>...</td>\n",
       "      <td>...</td>\n",
       "      <td>...</td>\n",
       "      <td>...</td>\n",
       "      <td>...</td>\n",
       "    </tr>\n",
       "    <tr>\n",
       "      <th>68</th>\n",
       "      <td>Ceara</td>\n",
       "      <td>Cearamor</td>\n",
       "      <td>12/02/2021</td>\n",
       "      <td>22:13</td>\n",
       "      <td>VAMO VOZAO!!!!!</td>\n",
       "      <td>Positivo</td>\n",
       "      <td>LongwellBelle</td>\n",
       "    </tr>\n",
       "    <tr>\n",
       "      <th>69</th>\n",
       "      <td>Coritiba</td>\n",
       "      <td>Imperio Alviverde</td>\n",
       "      <td>14/06/2021</td>\n",
       "      <td>01:42</td>\n",
       "      <td>Os furachao fala, fala e fala, mas nunca consi...</td>\n",
       "      <td>Negativo</td>\n",
       "      <td>Iaanziito</td>\n",
       "    </tr>\n",
       "    <tr>\n",
       "      <th>70</th>\n",
       "      <td>Athletico Paranaense</td>\n",
       "      <td>Ultras do Athletico</td>\n",
       "      <td>16/01/2021</td>\n",
       "      <td>02:01</td>\n",
       "      <td>O maior do sul nao tem como, os coxa nunca ser...</td>\n",
       "      <td>Negativo</td>\n",
       "      <td>FelipeAbel22</td>\n",
       "    </tr>\n",
       "    <tr>\n",
       "      <th>71</th>\n",
       "      <td>Athletico Paranaense</td>\n",
       "      <td>Ultras do Athletico</td>\n",
       "      <td>17/01/2021</td>\n",
       "      <td>03:01</td>\n",
       "      <td>sdds do time de 2019 e do tiago nunes</td>\n",
       "      <td>Positivo</td>\n",
       "      <td>cainhojatoba</td>\n",
       "    </tr>\n",
       "    <tr>\n",
       "      <th>72</th>\n",
       "      <td>Athletico Paranaense</td>\n",
       "      <td>Ultras do Athletico</td>\n",
       "      <td>31/05/2021</td>\n",
       "      <td>02:42</td>\n",
       "      <td>chora torcida do coxa, mais uma vitoriaa</td>\n",
       "      <td>Negativo</td>\n",
       "      <td>anselmo98</td>\n",
       "    </tr>\n",
       "  </tbody>\n",
       "</table>\n",
       "<p>73 rows × 7 columns</p>\n",
       "</div>"
      ],
      "text/plain": [
       "                    Time   Torcida Organizada        Data   Hora  \\\n",
       "0              Palmeiras         Mancha Verde  21/06/2021  00:43   \n",
       "1              Palmeiras         Mancha Verde         ind    ind   \n",
       "2              Palmeiras         Mancha Verde         ind    ind   \n",
       "3              Palmeiras                  TUP  15/05/2021  22:02   \n",
       "4              Palmeiras                  TUP         ind    ind   \n",
       "..                   ...                  ...         ...    ...   \n",
       "68                 Ceara             Cearamor  12/02/2021  22:13   \n",
       "69              Coritiba    Imperio Alviverde  14/06/2021  01:42   \n",
       "70  Athletico Paranaense  Ultras do Athletico  16/01/2021  02:01   \n",
       "71  Athletico Paranaense  Ultras do Athletico  17/01/2021  03:01   \n",
       "72  Athletico Paranaense  Ultras do Athletico  31/05/2021  02:42   \n",
       "\n",
       "                                                Tweet Positivo / Negativo  \\\n",
       "0   E ai, @DpaulaPatrick ? As 14h17 recebemos essa...            Negativo   \n",
       "1   Ainda bem que desde a ultima tempo os jogadore...            Positivo   \n",
       "2   Em questao de salarios, o palmeiras esta conse...            Positivo   \n",
       "3   E foda esses muleques que so pensam em TikTok ...            Negativo   \n",
       "4   Impressionante como o Bananotte e o Barros sao...            Negativo   \n",
       "..                                                ...                 ...   \n",
       "68                                    VAMO VOZAO!!!!!            Positivo   \n",
       "69  Os furachao fala, fala e fala, mas nunca consi...            Negativo   \n",
       "70  O maior do sul nao tem como, os coxa nunca ser...            Negativo   \n",
       "71              sdds do time de 2019 e do tiago nunes            Positivo   \n",
       "72           chora torcida do coxa, mais uma vitoriaa            Negativo   \n",
       "\n",
       "            Conta  \n",
       "0     torcidamv83  \n",
       "1             ind  \n",
       "2             ind  \n",
       "3    tupminhavida  \n",
       "4             ind  \n",
       "..            ...  \n",
       "68  LongwellBelle  \n",
       "69      Iaanziito  \n",
       "70   FelipeAbel22  \n",
       "71   cainhojatoba  \n",
       "72      anselmo98  \n",
       "\n",
       "[73 rows x 7 columns]"
      ]
     },
     "execution_count": 2,
     "metadata": {},
     "output_type": "execute_result"
    }
   ],
   "source": [
    "df_tw = pd.read_csv(\"torcida2.csv\", delimiter=';')\n",
    "df_tw"
   ]
  },
  {
   "cell_type": "markdown",
   "id": "81fdaf7e",
   "metadata": {},
   "source": [
    "#### Substituindo as classes finais (Positivo por 1; Negativo por 0) "
   ]
  },
  {
   "cell_type": "code",
   "execution_count": 3,
   "id": "6a15c9bd",
   "metadata": {},
   "outputs": [
    {
     "data": {
      "text/html": [
       "<div>\n",
       "<style scoped>\n",
       "    .dataframe tbody tr th:only-of-type {\n",
       "        vertical-align: middle;\n",
       "    }\n",
       "\n",
       "    .dataframe tbody tr th {\n",
       "        vertical-align: top;\n",
       "    }\n",
       "\n",
       "    .dataframe thead th {\n",
       "        text-align: right;\n",
       "    }\n",
       "</style>\n",
       "<table border=\"1\" class=\"dataframe\">\n",
       "  <thead>\n",
       "    <tr style=\"text-align: right;\">\n",
       "      <th></th>\n",
       "      <th>Time</th>\n",
       "      <th>Torcida Organizada</th>\n",
       "      <th>Data</th>\n",
       "      <th>Hora</th>\n",
       "      <th>Tweet</th>\n",
       "      <th>Positivo / Negativo</th>\n",
       "      <th>Conta</th>\n",
       "    </tr>\n",
       "  </thead>\n",
       "  <tbody>\n",
       "    <tr>\n",
       "      <th>0</th>\n",
       "      <td>Palmeiras</td>\n",
       "      <td>Mancha Verde</td>\n",
       "      <td>21/06/2021</td>\n",
       "      <td>00:43</td>\n",
       "      <td>E ai, @DpaulaPatrick ? As 14h17 recebemos essa...</td>\n",
       "      <td>0</td>\n",
       "      <td>torcidamv83</td>\n",
       "    </tr>\n",
       "    <tr>\n",
       "      <th>1</th>\n",
       "      <td>Palmeiras</td>\n",
       "      <td>Mancha Verde</td>\n",
       "      <td>ind</td>\n",
       "      <td>ind</td>\n",
       "      <td>Ainda bem que desde a ultima tempo os jogadore...</td>\n",
       "      <td>1</td>\n",
       "      <td>ind</td>\n",
       "    </tr>\n",
       "    <tr>\n",
       "      <th>2</th>\n",
       "      <td>Palmeiras</td>\n",
       "      <td>Mancha Verde</td>\n",
       "      <td>ind</td>\n",
       "      <td>ind</td>\n",
       "      <td>Em questao de salarios, o palmeiras esta conse...</td>\n",
       "      <td>1</td>\n",
       "      <td>ind</td>\n",
       "    </tr>\n",
       "    <tr>\n",
       "      <th>3</th>\n",
       "      <td>Palmeiras</td>\n",
       "      <td>TUP</td>\n",
       "      <td>15/05/2021</td>\n",
       "      <td>22:02</td>\n",
       "      <td>E foda esses muleques que so pensam em TikTok ...</td>\n",
       "      <td>0</td>\n",
       "      <td>tupminhavida</td>\n",
       "    </tr>\n",
       "    <tr>\n",
       "      <th>4</th>\n",
       "      <td>Palmeiras</td>\n",
       "      <td>TUP</td>\n",
       "      <td>ind</td>\n",
       "      <td>ind</td>\n",
       "      <td>Impressionante como o Bananotte e o Barros sao...</td>\n",
       "      <td>0</td>\n",
       "      <td>ind</td>\n",
       "    </tr>\n",
       "    <tr>\n",
       "      <th>...</th>\n",
       "      <td>...</td>\n",
       "      <td>...</td>\n",
       "      <td>...</td>\n",
       "      <td>...</td>\n",
       "      <td>...</td>\n",
       "      <td>...</td>\n",
       "      <td>...</td>\n",
       "    </tr>\n",
       "    <tr>\n",
       "      <th>68</th>\n",
       "      <td>Ceara</td>\n",
       "      <td>Cearamor</td>\n",
       "      <td>12/02/2021</td>\n",
       "      <td>22:13</td>\n",
       "      <td>VAMO VOZAO!!!!!</td>\n",
       "      <td>1</td>\n",
       "      <td>LongwellBelle</td>\n",
       "    </tr>\n",
       "    <tr>\n",
       "      <th>69</th>\n",
       "      <td>Coritiba</td>\n",
       "      <td>Imperio Alviverde</td>\n",
       "      <td>14/06/2021</td>\n",
       "      <td>01:42</td>\n",
       "      <td>Os furachao fala, fala e fala, mas nunca consi...</td>\n",
       "      <td>0</td>\n",
       "      <td>Iaanziito</td>\n",
       "    </tr>\n",
       "    <tr>\n",
       "      <th>70</th>\n",
       "      <td>Athletico Paranaense</td>\n",
       "      <td>Ultras do Athletico</td>\n",
       "      <td>16/01/2021</td>\n",
       "      <td>02:01</td>\n",
       "      <td>O maior do sul nao tem como, os coxa nunca ser...</td>\n",
       "      <td>0</td>\n",
       "      <td>FelipeAbel22</td>\n",
       "    </tr>\n",
       "    <tr>\n",
       "      <th>71</th>\n",
       "      <td>Athletico Paranaense</td>\n",
       "      <td>Ultras do Athletico</td>\n",
       "      <td>17/01/2021</td>\n",
       "      <td>03:01</td>\n",
       "      <td>sdds do time de 2019 e do tiago nunes</td>\n",
       "      <td>1</td>\n",
       "      <td>cainhojatoba</td>\n",
       "    </tr>\n",
       "    <tr>\n",
       "      <th>72</th>\n",
       "      <td>Athletico Paranaense</td>\n",
       "      <td>Ultras do Athletico</td>\n",
       "      <td>31/05/2021</td>\n",
       "      <td>02:42</td>\n",
       "      <td>chora torcida do coxa, mais uma vitoriaa</td>\n",
       "      <td>0</td>\n",
       "      <td>anselmo98</td>\n",
       "    </tr>\n",
       "  </tbody>\n",
       "</table>\n",
       "<p>73 rows × 7 columns</p>\n",
       "</div>"
      ],
      "text/plain": [
       "                    Time   Torcida Organizada        Data   Hora  \\\n",
       "0              Palmeiras         Mancha Verde  21/06/2021  00:43   \n",
       "1              Palmeiras         Mancha Verde         ind    ind   \n",
       "2              Palmeiras         Mancha Verde         ind    ind   \n",
       "3              Palmeiras                  TUP  15/05/2021  22:02   \n",
       "4              Palmeiras                  TUP         ind    ind   \n",
       "..                   ...                  ...         ...    ...   \n",
       "68                 Ceara             Cearamor  12/02/2021  22:13   \n",
       "69              Coritiba    Imperio Alviverde  14/06/2021  01:42   \n",
       "70  Athletico Paranaense  Ultras do Athletico  16/01/2021  02:01   \n",
       "71  Athletico Paranaense  Ultras do Athletico  17/01/2021  03:01   \n",
       "72  Athletico Paranaense  Ultras do Athletico  31/05/2021  02:42   \n",
       "\n",
       "                                                Tweet  Positivo / Negativo  \\\n",
       "0   E ai, @DpaulaPatrick ? As 14h17 recebemos essa...                    0   \n",
       "1   Ainda bem que desde a ultima tempo os jogadore...                    1   \n",
       "2   Em questao de salarios, o palmeiras esta conse...                    1   \n",
       "3   E foda esses muleques que so pensam em TikTok ...                    0   \n",
       "4   Impressionante como o Bananotte e o Barros sao...                    0   \n",
       "..                                                ...                  ...   \n",
       "68                                    VAMO VOZAO!!!!!                    1   \n",
       "69  Os furachao fala, fala e fala, mas nunca consi...                    0   \n",
       "70  O maior do sul nao tem como, os coxa nunca ser...                    0   \n",
       "71              sdds do time de 2019 e do tiago nunes                    1   \n",
       "72           chora torcida do coxa, mais uma vitoriaa                    0   \n",
       "\n",
       "            Conta  \n",
       "0     torcidamv83  \n",
       "1             ind  \n",
       "2             ind  \n",
       "3    tupminhavida  \n",
       "4             ind  \n",
       "..            ...  \n",
       "68  LongwellBelle  \n",
       "69      Iaanziito  \n",
       "70   FelipeAbel22  \n",
       "71   cainhojatoba  \n",
       "72      anselmo98  \n",
       "\n",
       "[73 rows x 7 columns]"
      ]
     },
     "execution_count": 3,
     "metadata": {},
     "output_type": "execute_result"
    }
   ],
   "source": [
    "df_tw = df_tw.replace('Negativo', 0)\n",
    "df_tw = df_tw.replace('Positivo', 1)\n",
    "df_tw"
   ]
  },
  {
   "cell_type": "code",
   "execution_count": 4,
   "id": "5f267990",
   "metadata": {
    "scrolled": true
   },
   "outputs": [
    {
     "data": {
      "text/plain": [
       "array(['E ai, @DpaulaPatrick ? As 14h17 recebemos essa mensagem diretamente de voce em nosso Instagram. Agora a noite voce estava em balada, tirando com a cara do torcedor palmeirense. E agora, Mauricio Banana? O que mais falta pra virar homem e assumir o comando?',\n",
       "       'Ainda bem que desde a ultima tempo os jogadores da base vem sendo mais utilizados',\n",
       "       'Em questao de salarios, o palmeiras esta conseguindo pagar tudo em dia',\n",
       "       'E foda esses muleques que so pensam em TikTok e nao querem saber de jogar mais',\n",
       "       'Impressionante como o Bananotte e o Barros sao uns idiotas para contratar, nunca vi piores que eles',\n",
       "       'Depois da triplice coroa esses jogadores nao querem saber de mais nada, serao cobrados no CT amanha as 10:00, vai quem quiser tirar satisfacao tambem',\n",
       "       'a TUP nunca abaixa a cabeca nas brigas',\n",
       "       'Gracas aos titulos desse ano a diretoria conseguiu ficar sem demitir ninguem durante a pandemia',\n",
       "       'Certeza que os jogadores nao treinam pra bater a porra do penalti',\n",
       "       'Porks a torcida mais apaixonada',\n",
       "       'Ja visitei um bar da Gavioes da Fiel, um rapaz passou de verde em frente ao bar, os torcedores rasgaram a blusa e queimou, acho besteira, so porque e corintiano nao pode usar verde?',\n",
       "       'Tem que tirar esse cancer que chamam de diretoria, abrindo votacao pra quem e fiel torcedor, so assim tem uma perspectiva real de longo prazo',\n",
       "       'Nao e possivel que aceitaram essa camisa nova branca, muito feia meu deus ',\n",
       "       'quando o corinthians foi campeao, eu estava com a linda camisa da 12',\n",
       "       'Ate que enfim esta utilizando bastante a base, mais chance de um dar certo',\n",
       "       'A gente tem uma lista de jogadores que nao da pra ficar insistindo mais, e logo logo eles serao cobrados ao vivo',\n",
       "       'a torcida do pavilhao e mil vezes melhor que a da gavioes',\n",
       "       'Pelo menos paramos a busca por um tecnico e vao deixar o Sylvinho trabalhar',\n",
       "       'Financas parecem estar melhorando depois da entrada do Duilio ',\n",
       "       'adoramos brigar com a dragoes da real, eles sempre apanham',\n",
       "       'assistir o jogo com a linda torcida da Sangue Jovem, foi incrivel ',\n",
       "       'bora pro jogo, torcer e gritar pelo nosso Santos',\n",
       "       'como eu te amo tricolor...',\n",
       "       'As contratacoes do Benitez e do Miranda foram as melhores que eu vi em muito tempo como torcedor tricolor',\n",
       "       'E ridiculo ainda pagarmos salario pro Hernanes, como esse cara ta aqui ainda',\n",
       "       'pode vir porco, de hoje nao passa as 21 na barra funda',\n",
       "       'Os novos planos de socio-torcedor tao uma maravilha',\n",
       "       'Ate que enfim temos um presidente que se preocupa e esta lidando com as dividas',\n",
       "       'como e lindo ver o sao paulo jogando bem assim ',\n",
       "       'Nunca vi um DM tao ruim quanto o do SP pela mor de deus',\n",
       "       'O dani alves esta cada vez menos compromissado com o time, tem q ir embora logo!!',\n",
       "       'chora torcida do flu, hoje nao deu pra vcs',\n",
       "       'como o maraca eh lindo, bora mengaoo',\n",
       "       'mais uma vitoria do mengao, para alegria da urubuzada',\n",
       "       'bora pra praia, depois de mais um derrota, preciso relaxar',\n",
       "       'bora fred, meter gol esse ano', 'vamooooo meu fluzaooo',\n",
       "       'e o gigante da colinaaaaaaa',\n",
       "       'O Vasco vale mais que suas vidas. Joguem por elas',\n",
       "       'dia de jogo, dia de usar a camisa mais bonita do mundo',\n",
       "       'mais um episodio acabando com a torcida do flamengo, vamos Mancha Negra',\n",
       "       'bora pro niltao, chorar vendo o botafogo jogar, mas com a camisa da querida estrela solitaria ',\n",
       "       'eu te amo Mancha Alvinegra',\n",
       "       'vamo que vamo fogao em busca de mais uma vitoria',\n",
       "       'mafia azul manda em minas, pode vir atletico mg',\n",
       "       'vamos meu CRUZEIROO',\n",
       "       'acompanhamos independente de qualquer situacao',\n",
       "       'bora galoucura, n vamos perder esse jogo',\n",
       "       'sempre apoiando o maior de minas',\n",
       "       'eae mafia azul como e a serie b',\n",
       "       'A SEITA VERDE E A MAIS PERIGOSA DO BRASIL',\n",
       "       'Vamo meu coelho, jogo importantissimo hoje',\n",
       "       'A Koelhomania mata um, mata geral, tambem vai matar voce',\n",
       "       'Ae tricoflores, hoje voces vao chorar em ',\n",
       "       'Hoje vamo comemorar indo pra briga!!!!!!',\n",
       "       'Chupaaa cholorados, nao guentam no campo e nem se vim pra porrada',\n",
       "       'Vamo ganhar essa copaa meu IMORTAAAAL',\n",
       "       'Aiai essa freguesia so cresce, bando de lixo, isso n e dragao nao, ta no maximo pra um passarinho',\n",
       "       'Mais um classico do equilibrio hoje, e vencer ou vencer, se nao vai ter guerra',\n",
       "       'Vai ser complicado essas oitavas contra o CAP',\n",
       "       'Nao temos mais rivais na Bahia, impressionante como o Vitoria se apequenou',\n",
       "       'VAMO PARA MAIS UMA MEU BAHIAA',\n",
       "       '\"nos somos os leoes da ilha\", muito engracado esses caras nao passam de um gatinho de condominio',\n",
       "       'Mais uma vitoria pro santinha, cada vez jogando melhor',\n",
       "       'Hoje o xpoh vai passar o trator, tem nem como',\n",
       "       'As cobrinhas piram com cada jogo nosso, impressionante o quao lixo eles sao, cada vez com mais vontade de espancar um',\n",
       "       'Contra a leoes esses vozinho nunca arranjam nada, se quiser provar vem na briga as 20:00 na Praca no Ferreira',\n",
       "       'O MAIOR DO NORDESTE', 'VAMO VOZAO!!!!!',\n",
       "       'Os furachao fala, fala e fala, mas nunca consiguirao ser maior que nos',\n",
       "       'O maior do sul nao tem como, os coxa nunca serao o que a gente e agora, SOMOS CAMPEOES DE NOVO',\n",
       "       'sdds do time de 2019 e do tiago nunes',\n",
       "       'chora torcida do coxa, mais uma vitoriaa'], dtype=object)"
      ]
     },
     "execution_count": 4,
     "metadata": {},
     "output_type": "execute_result"
    }
   ],
   "source": [
    "# Corpus = Todos os tweets reunidos em um array\n",
    "corpus = df_tw['Tweet'].values\n",
    "corpus"
   ]
  },
  {
   "cell_type": "code",
   "execution_count": 5,
   "id": "2a371b31",
   "metadata": {},
   "outputs": [
    {
     "name": "stdout",
     "output_type": "stream",
     "text": [
      "['00', '10', '12', '14h17', '20', '2019', '21', 'abaixa', 'abrindo', 'acabando', 'aceitaram', 'acho', 'acompanhamos', 'adoramos', 'ae', 'agora', 'ai', 'aiai', 'ainda', 'alegria', 'alves', 'alvinegra', 'amanha', 'amo', 'ano', 'ao', 'aos', 'apaixonada', 'apanham', 'apequenou', 'apoiando', 'aqui', 'arranjam', 'as', 'assim', 'assistir', 'assumir', 'ate', 'atletico', 'azul', 'bahia', 'bahiaa', 'balada', 'banana', 'bananotte', 'bando', 'bar', 'barra', 'barros', 'base', 'bastante', 'bater', 'bem', 'benitez', 'besteira', 'blusa', 'bonita', 'bora', 'botafogo', 'branca', 'brasil', 'briga', 'brigar', 'brigas', 'busca', 'cabeca', 'cada', 'camisa', 'campeao', 'campeoes', 'campo', 'cancer', 'cap', 'cara', 'caras', 'certeza', 'certo', 'chamam', 'chance', 'cholorados', 'chora', 'chorar', 'chupaaa', 'classico', 'cobrados', 'cobrinhas', 'coelho', 'colinaaaaaaa', 'com', 'comando', 'comemorar', 'como', 'complicado', 'compromissado', 'condominio', 'conseguindo', 'conseguiu', 'consiguirao', 'contra', 'contratacoes', 'contratar', 'copaa', 'corinthians', 'corintiano', 'coroa', 'coxa', 'cresce', 'cruzeiroo', 'ct', 'da', 'dani', 'dar', 'de', 'deixar', 'demitir', 'depois', 'derrota', 'desde', 'desse', 'deu', 'deus', 'dia', 'diretamente', 'diretoria', 'dividas', 'dm', 'do', 'dpaulapatrick', 'dragao', 'dragoes', 'duilio', 'durante', 'eae', 'eh', 'elas', 'eles', 'em', 'embora', 'enfim', 'engracado', 'entrada', 'episodio', 'equilibrio', 'espancar', 'essa', 'essas', 'esse', 'esses', 'esta', 'estar', 'estava', 'estrela', 'eu', 'fala', 'falta', 'feia', 'ferreira', 'ficar', 'fiel', 'financas', 'flamengo', 'flu', 'fluzaooo', 'foda', 'fogao', 'foi', 'foram', 'fred', 'freguesia', 'frente', 'funda', 'furachao', 'galoucura', 'ganhar', 'gatinho', 'gavioes', 'gente', 'geral', 'gigante', 'gol', 'gracas', 'gritar', 'guentam', 'guerra', 'hernanes', 'hoje', 'homem', 'idiotas', 'ilha', 'imortaaaal', 'importantissimo', 'impressionante', 'incrivel', 'independente', 'indo', 'insistindo', 'instagram', 'ir', 'isso', 'ja', 'jogadores', 'jogando', 'jogar', 'jogo', 'joguem', 'jovem', 'koelhomania', 'leoes', 'lidando', 'linda', 'lindo', 'lista', 'lixo', 'logo', 'longo', 'mafia', 'maior', 'mais', 'mancha', 'manda', 'maraca', 'maravilha', 'mas', 'mata', 'matar', 'mauricio', 'maximo', 'melhor', 'melhorando', 'melhores', 'mengao', 'mengaoo', 'menos', 'mensagem', 'meter', 'meu', 'mg', 'mil', 'minas', 'miranda', 'mor', 'muito', 'muleques', 'mundo', 'na', 'nada', 'nao', 'nas', 'negra', 'nem', 'niltao', 'ninguem', 'no', 'noite', 'nordeste', 'nos', 'nosso', 'nova', 'novo', 'novos', 'nunca', 'nunes', 'oitavas', 'os', 'ou', 'pagar', 'pagarmos', 'palmeiras', 'palmeirense', 'pandemia', 'para', 'paramos', 'parecem', 'passa', 'passam', 'passar', 'passarinho', 'passou', 'paulo', 'pavilhao', 'pela', 'pelo', 'penalti', 'pensam', 'perder', 'perigosa', 'perspectiva', 'piores', 'piram', 'planos', 'pode', 'por', 'porco', 'porks', 'porque', 'porra', 'porrada', 'possivel', 'pra', 'praca', 'praia', 'prazo', 'preciso', 'preocupa', 'presidente', 'pro', 'provar', 'qualquer', 'quando', 'quanto', 'quao', 'que', 'queimou', 'quem', 'querem', 'querida', 'questao', 'quiser', 'rapaz', 'rasgaram', 'real', 'recebemos', 'relaxar', 'ridiculo', 'rivais', 'ruim', 'saber', 'salario', 'salarios', 'sangue', 'santinha', 'santos', 'sao', 'satisfacao', 'sdds', 'se', 'seita', 'sem', 'sempre', 'sendo', 'ser', 'serao', 'serie', 'situacao', 'so', 'socio', 'solitaria', 'somos', 'sp', 'suas', 'sul', 'sylvinho', 'ta', 'tambem', 'tao', 'te', 'tecnico', 'tem', 'temos', 'tempo', 'ter', 'tiago', 'tiktok', 'time', 'tirando', 'tirar', 'titulos', 'torcedor', 'torcedores', 'torcer', 'torcida', 'trabalhar', 'trator', 'treinam', 'tricoflores', 'tricolor', 'triplice', 'tudo', 'tup', 'ultima', 'um', 'uma', 'uns', 'urubuzada', 'usar', 'utilizados', 'utilizando', 'vai', 'vale', 'vamo', 'vamooooo', 'vamos', 'vao', 'vasco', 'vcs', 'vem', 'vencer', 'vendo', 'ver', 'verde', 'vez', 'vezes', 'vi', 'vidas', 'vim', 'vir', 'virar', 'visitei', 'vitoria', 'vitoriaa', 'vivo', 'voce', 'voces', 'vontade', 'votacao', 'vozao', 'vozinho', 'xpoh']\n"
     ]
    }
   ],
   "source": [
    "# CountVectorizer() = Converte uma coleção de documentos de texto em uma matriz de contagens de tokens\n",
    "vectorizer = CountVectorizer()\n",
    "\n",
    "# fit_transform() = Ajustar aos dados e, em seguida, transformá-los\n",
    "X_vec = vectorizer.fit_transform(corpus)\n",
    "\n",
    "# Imprimindo cada palavra separadamente\n",
    "print(vectorizer.get_feature_names())"
   ]
  },
  {
   "cell_type": "code",
   "execution_count": 6,
   "id": "342dd552",
   "metadata": {},
   "outputs": [
    {
     "data": {
      "text/plain": [
       "array([[0, 0, 0, ..., 0, 0, 0],\n",
       "       [0, 0, 0, ..., 0, 0, 0],\n",
       "       [0, 0, 0, ..., 0, 0, 0],\n",
       "       ...,\n",
       "       [0, 0, 0, ..., 0, 0, 0],\n",
       "       [0, 0, 0, ..., 0, 0, 0],\n",
       "       [0, 0, 0, ..., 0, 0, 0]], dtype=int64)"
      ]
     },
     "execution_count": 6,
     "metadata": {},
     "output_type": "execute_result"
    }
   ],
   "source": [
    "# Atributos a serem considerados\n",
    "X = X_vec.toarray()# Transformando em array\n",
    "X"
   ]
  },
  {
   "cell_type": "code",
   "execution_count": 7,
   "id": "8eeb70da",
   "metadata": {},
   "outputs": [
    {
     "name": "stdout",
     "output_type": "stream",
     "text": [
      "[0, 1, 1, 0, 0, 0, 0, 1, 0, 1, 1, 0, 0, 1, 1, 0, 0, 1, 1, 0, 1, 1, 1, 1, 0, 0, 1, 1, 1, 0, 0, 0, 1, 1, 0, 1, 1, 1, 0, 1, 0, 0, 1, 1, 0, 1, 1, 1, 1, 0, 0, 1, 0, 0, 0, 0, 1, 0, 0, 1, 0, 1, 0, 1, 1, 0, 0, 1, 1, 0, 0, 1, 0]\n"
     ]
    }
   ],
   "source": [
    "# Classe final\n",
    "y = df_tw['Positivo / Negativo'].values # Pegando os valores da coluna do df\n",
    "y1 = y.tolist() # Transformando em uma lista\n",
    "print(y1)"
   ]
  },
  {
   "cell_type": "code",
   "execution_count": 8,
   "id": "0266208b",
   "metadata": {},
   "outputs": [],
   "source": [
    "# Nayve-Bayes Multinomial\n",
    "mult = MultinomialNB()"
   ]
  },
  {
   "cell_type": "code",
   "execution_count": 9,
   "id": "5db14a53",
   "metadata": {},
   "outputs": [],
   "source": [
    "# Separando os X's e Y's para teste e treino (30% dos dados serão utilizados para teste)\n",
    "X_train, X_test, y_train, y_test = train_test_split(X, y, test_size = 0.30, random_state = 42)"
   ]
  },
  {
   "cell_type": "code",
   "execution_count": 10,
   "id": "d8f0d4a2",
   "metadata": {},
   "outputs": [
    {
     "data": {
      "text/plain": [
       "MultinomialNB()"
      ]
     },
     "execution_count": 10,
     "metadata": {},
     "output_type": "execute_result"
    }
   ],
   "source": [
    "# Normalização dos valores X_train e y_train com a função 'fit()'\n",
    "mult.fit(X_train,y_train)"
   ]
  },
  {
   "cell_type": "code",
   "execution_count": 11,
   "id": "44e5ef5b",
   "metadata": {},
   "outputs": [
    {
     "data": {
      "text/plain": [
       "array([0, 0, 1, 1, 1, 1, 0, 0, 1, 0, 0, 0, 1, 1, 0, 1, 0, 1, 1, 1, 0, 1],\n",
       "      dtype=int64)"
      ]
     },
     "execution_count": 11,
     "metadata": {},
     "output_type": "execute_result"
    }
   ],
   "source": [
    "# Valores preditos\n",
    "y_pred = mult.predict(X_test)\n",
    "y_pred"
   ]
  },
  {
   "cell_type": "code",
   "execution_count": 12,
   "id": "8ba0aafc",
   "metadata": {},
   "outputs": [
    {
     "data": {
      "text/plain": [
       "array([0, 1, 1, 0, 1, 0, 1, 0, 0, 0, 0, 0, 1, 1, 0, 1, 0, 0, 1, 1, 0, 0],\n",
       "      dtype=int64)"
      ]
     },
     "execution_count": 12,
     "metadata": {},
     "output_type": "execute_result"
    }
   ],
   "source": [
    "# Valores testados\n",
    "y_test"
   ]
  },
  {
   "cell_type": "markdown",
   "id": "6d962dba",
   "metadata": {},
   "source": [
    "### Avaliando o algoritmo de Naive-Bayes(Multinomial)"
   ]
  },
  {
   "cell_type": "code",
   "execution_count": 13,
   "id": "10fef8ca",
   "metadata": {},
   "outputs": [
    {
     "name": "stdout",
     "output_type": "stream",
     "text": [
      "              precision    recall  f1-score   support\n",
      "\n",
      "           0       0.80      0.62      0.70        13\n",
      "           1       0.58      0.78      0.67         9\n",
      "\n",
      "    accuracy                           0.68        22\n",
      "   macro avg       0.69      0.70      0.68        22\n",
      "weighted avg       0.71      0.68      0.68        22\n",
      "\n"
     ]
    }
   ],
   "source": [
    "print(classification_report(y_test, y_pred, target_names = ['0','1']))"
   ]
  },
  {
   "cell_type": "markdown",
   "id": "95d10502",
   "metadata": {},
   "source": [
    "![](Images/metricas.JPG)"
   ]
  },
  {
   "cell_type": "code",
   "execution_count": 14,
   "id": "5136c364",
   "metadata": {},
   "outputs": [
    {
     "data": {
      "text/plain": [
       "array([[8, 5],\n",
       "       [2, 7]], dtype=int64)"
      ]
     },
     "execution_count": 14,
     "metadata": {},
     "output_type": "execute_result"
    }
   ],
   "source": [
    "confusion_matrix(y_test, y_pred)"
   ]
  },
  {
   "cell_type": "markdown",
   "id": "e359f6a9",
   "metadata": {},
   "source": [
    "![](Images/Matriz1.JPG)\n",
    "![](Images/Matriz2.JPG)"
   ]
  },
  {
   "cell_type": "markdown",
   "id": "317f0ab4",
   "metadata": {},
   "source": [
    "Das 10 pessoas da amostra que fizeram tweets negativos, 8 foram previstas corretamente, enquanto 2 foram preditas tweetando positivamente. Já das 12 pessoas da amostra que fizeram tweets positivos, 7 foram previstas corretamente, enquanto 5 foram preditas tweetando negativamente."
   ]
  },
  {
   "cell_type": "markdown",
   "id": "c62314ed",
   "metadata": {},
   "source": [
    "### Persistindo o algoritmo de Naive-Bayes(Multinomial)"
   ]
  },
  {
   "cell_type": "code",
   "execution_count": 15,
   "id": "04d9efff",
   "metadata": {},
   "outputs": [
    {
     "data": {
      "text/plain": [
       "['NAI_SocioTorcedor.sav']"
      ]
     },
     "execution_count": 15,
     "metadata": {},
     "output_type": "execute_result"
    }
   ],
   "source": [
    "arq_nai = 'NAI_SocioTorcedor.sav'\n",
    "joblib.dump(mult,arq_nai)"
   ]
  },
  {
   "cell_type": "code",
   "execution_count": 16,
   "id": "8453b638",
   "metadata": {},
   "outputs": [
    {
     "name": "stdout",
     "output_type": "stream",
     "text": [
      "0.6818181818181818\n"
     ]
    }
   ],
   "source": [
    "nai_carregado = joblib.load(arq_nai)\n",
    "resultado = nai_carregado.score(X_test, y_test)\n",
    "print(resultado)"
   ]
  },
  {
   "cell_type": "markdown",
   "id": "c3139448",
   "metadata": {},
   "source": [
    "#### ACURÁCIA FINAL = 68,1%"
   ]
  }
 ],
 "metadata": {
  "kernelspec": {
   "display_name": "Python 3",
   "language": "python",
   "name": "python3"
  },
  "language_info": {
   "codemirror_mode": {
    "name": "ipython",
    "version": 3
   },
   "file_extension": ".py",
   "mimetype": "text/x-python",
   "name": "python",
   "nbconvert_exporter": "python",
   "pygments_lexer": "ipython3",
   "version": "3.8.8"
  }
 },
 "nbformat": 4,
 "nbformat_minor": 5
}
