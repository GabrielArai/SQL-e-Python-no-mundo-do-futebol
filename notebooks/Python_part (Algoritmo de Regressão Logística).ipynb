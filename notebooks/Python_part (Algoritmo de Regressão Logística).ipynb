{
 "cells": [
  {
   "cell_type": "markdown",
   "id": "1175f268",
   "metadata": {},
   "source": [
    "# *SQL e Python no Mundo do Futebol e suas possíveis aplicações*"
   ]
  },
  {
   "cell_type": "markdown",
   "id": "84fe7787",
   "metadata": {},
   "source": [
    "## <u>Com Python...<u/>"
   ]
  },
  {
   "cell_type": "markdown",
   "id": "ffafae9a",
   "metadata": {},
   "source": [
    "Para o  Algoritmo de regressão logística simulei uma situação onde conto com um dataset com diversas informações classificando as pessoas que recebem  mais ou menos que 25 mil reais anuais, sendo essas pessoas, sócios torcedores de um time x. O objetivo é funcionar como uma empresa que vende relatórios de inteligência para que possam ser aproveitados pelos clubes de futebol."
   ]
  },
  {
   "cell_type": "markdown",
   "id": "cace7dc0",
   "metadata": {},
   "source": [
    "##### O que é regressão logística?\n",
    "A regressão logística é uma técnica estatística que tem como objetivo produzir, a partir de um conjunto de observações, um modelo que permita a predição de valores tomados por uma variável categórica, frequentemente binária, em função de uma ou mais variáveis independentes contínuas e/ou binárias."
   ]
  },
  {
   "attachments": {},
   "cell_type": "markdown",
   "id": "a9dc8d20",
   "metadata": {},
   "source": [
    "![](Images/reg_log1.JPG)"
   ]
  },
  {
   "cell_type": "markdown",
   "id": "1ac50865",
   "metadata": {},
   "source": [
    "#### Importando todas as bibliotecas necessárias"
   ]
  },
  {
   "cell_type": "code",
   "execution_count": 4,
   "id": "90e5f191",
   "metadata": {},
   "outputs": [],
   "source": [
    "from sklearn.linear_model import LogisticRegression\n",
    "from sklearn.preprocessing import StandardScaler\n",
    "from sklearn.pipeline import Pipeline\n",
    "from sklearn.model_selection import GridSearchCV\n",
    "from sklearn.model_selection import train_test_split\n",
    "from sklearn.metrics import confusion_matrix\n",
    "from sklearn.metrics import f1_score\n",
    "from sklearn.metrics import precision_score\n",
    "from sklearn.metrics import recall_score\n",
    "from sklearn.metrics import accuracy_score\n",
    "from sklearn.metrics import classification_report\n",
    "from sklearn.metrics import mean_absolute_error,mean_squared_error\n",
    "import numpy as np\n",
    "import pandas as pd\n",
    "import matplotlib.pyplot as plt\n",
    "import matplotlib as mpl\n",
    "import seaborn as sb\n",
    "import joblib\n",
    "\n",
    "%matplotlib inline\n",
    "mpl.rcParams['figure.dpi']= 100"
   ]
  },
  {
   "cell_type": "markdown",
   "id": "a79ea6f6",
   "metadata": {},
   "source": [
    "#### Leitura dos dataframes"
   ]
  },
  {
   "cell_type": "code",
   "execution_count": 5,
   "id": "3d436856",
   "metadata": {},
   "outputs": [
    {
     "data": {
      "text/html": [
       "<div>\n",
       "<style scoped>\n",
       "    .dataframe tbody tr th:only-of-type {\n",
       "        vertical-align: middle;\n",
       "    }\n",
       "\n",
       "    .dataframe tbody tr th {\n",
       "        vertical-align: top;\n",
       "    }\n",
       "\n",
       "    .dataframe thead th {\n",
       "        text-align: right;\n",
       "    }\n",
       "</style>\n",
       "<table border=\"1\" class=\"dataframe\">\n",
       "  <thead>\n",
       "    <tr style=\"text-align: right;\">\n",
       "      <th></th>\n",
       "      <th>Idade</th>\n",
       "      <th>Classe de Trabalho</th>\n",
       "      <th>Peso Final</th>\n",
       "      <th>Educacao</th>\n",
       "      <th>Id_Educacao</th>\n",
       "      <th>Estado Civil</th>\n",
       "      <th>Ocupacao</th>\n",
       "      <th>Relacao</th>\n",
       "      <th>Raca</th>\n",
       "      <th>Sexo</th>\n",
       "      <th>Ganho de Capital</th>\n",
       "      <th>Perda de Capital</th>\n",
       "      <th>Horas-Por-Semana</th>\n",
       "      <th>Nacionalidade</th>\n",
       "      <th>Ganho Anual</th>\n",
       "    </tr>\n",
       "  </thead>\n",
       "  <tbody>\n",
       "    <tr>\n",
       "      <th>0</th>\n",
       "      <td>50</td>\n",
       "      <td>Trabalhador-nao-autonomo</td>\n",
       "      <td>83311</td>\n",
       "      <td>Bacharelado</td>\n",
       "      <td>13</td>\n",
       "      <td>Conjuge-civ-casado</td>\n",
       "      <td>Executivo-gerencial</td>\n",
       "      <td>Marido</td>\n",
       "      <td>Branco</td>\n",
       "      <td>Masculino</td>\n",
       "      <td>0</td>\n",
       "      <td>0</td>\n",
       "      <td>13</td>\n",
       "      <td>Brasil</td>\n",
       "      <td>&lt;=25K</td>\n",
       "    </tr>\n",
       "    <tr>\n",
       "      <th>1</th>\n",
       "      <td>38</td>\n",
       "      <td>Privado</td>\n",
       "      <td>215646</td>\n",
       "      <td>Formado-EM</td>\n",
       "      <td>9</td>\n",
       "      <td>Divorciado</td>\n",
       "      <td>Limpeza</td>\n",
       "      <td>Nao-membro-da-familia</td>\n",
       "      <td>Branco</td>\n",
       "      <td>Masculino</td>\n",
       "      <td>0</td>\n",
       "      <td>0</td>\n",
       "      <td>40</td>\n",
       "      <td>Brasil</td>\n",
       "      <td>&lt;=25K</td>\n",
       "    </tr>\n",
       "    <tr>\n",
       "      <th>2</th>\n",
       "      <td>53</td>\n",
       "      <td>Privado</td>\n",
       "      <td>234721</td>\n",
       "      <td>2-colegial</td>\n",
       "      <td>7</td>\n",
       "      <td>Conjuge-civ-casado</td>\n",
       "      <td>Limpeza</td>\n",
       "      <td>Marido</td>\n",
       "      <td>Negro</td>\n",
       "      <td>Masculino</td>\n",
       "      <td>0</td>\n",
       "      <td>0</td>\n",
       "      <td>40</td>\n",
       "      <td>Brasil</td>\n",
       "      <td>&lt;=25K</td>\n",
       "    </tr>\n",
       "    <tr>\n",
       "      <th>3</th>\n",
       "      <td>28</td>\n",
       "      <td>Privado</td>\n",
       "      <td>338409</td>\n",
       "      <td>Bacharelado</td>\n",
       "      <td>13</td>\n",
       "      <td>Conjuge-civ-casado</td>\n",
       "      <td>Profissional-especializado</td>\n",
       "      <td>Esposa</td>\n",
       "      <td>Negro</td>\n",
       "      <td>Feminino</td>\n",
       "      <td>0</td>\n",
       "      <td>0</td>\n",
       "      <td>40</td>\n",
       "      <td>Brasil</td>\n",
       "      <td>&lt;=25K</td>\n",
       "    </tr>\n",
       "    <tr>\n",
       "      <th>4</th>\n",
       "      <td>37</td>\n",
       "      <td>Privado</td>\n",
       "      <td>284582</td>\n",
       "      <td>Mestrado</td>\n",
       "      <td>14</td>\n",
       "      <td>Conjuge-civ-casado</td>\n",
       "      <td>Executivo-gerencial</td>\n",
       "      <td>Esposa</td>\n",
       "      <td>Branco</td>\n",
       "      <td>Feminino</td>\n",
       "      <td>0</td>\n",
       "      <td>0</td>\n",
       "      <td>40</td>\n",
       "      <td>Brasil</td>\n",
       "      <td>&lt;=25K</td>\n",
       "    </tr>\n",
       "    <tr>\n",
       "      <th>...</th>\n",
       "      <td>...</td>\n",
       "      <td>...</td>\n",
       "      <td>...</td>\n",
       "      <td>...</td>\n",
       "      <td>...</td>\n",
       "      <td>...</td>\n",
       "      <td>...</td>\n",
       "      <td>...</td>\n",
       "      <td>...</td>\n",
       "      <td>...</td>\n",
       "      <td>...</td>\n",
       "      <td>...</td>\n",
       "      <td>...</td>\n",
       "      <td>...</td>\n",
       "      <td>...</td>\n",
       "    </tr>\n",
       "    <tr>\n",
       "      <th>32555</th>\n",
       "      <td>27</td>\n",
       "      <td>Privado</td>\n",
       "      <td>257302</td>\n",
       "      <td>Associacao-academica</td>\n",
       "      <td>12</td>\n",
       "      <td>Conjuge-civ-casado</td>\n",
       "      <td>Suporte-Tecnico</td>\n",
       "      <td>Esposa</td>\n",
       "      <td>Branco</td>\n",
       "      <td>Feminino</td>\n",
       "      <td>0</td>\n",
       "      <td>0</td>\n",
       "      <td>38</td>\n",
       "      <td>Brasil</td>\n",
       "      <td>&lt;=25K</td>\n",
       "    </tr>\n",
       "    <tr>\n",
       "      <th>32556</th>\n",
       "      <td>40</td>\n",
       "      <td>Privado</td>\n",
       "      <td>154374</td>\n",
       "      <td>Formado-EM</td>\n",
       "      <td>9</td>\n",
       "      <td>Conjuge-civ-casado</td>\n",
       "      <td>Operador-maquina</td>\n",
       "      <td>Marido</td>\n",
       "      <td>Branco</td>\n",
       "      <td>Masculino</td>\n",
       "      <td>0</td>\n",
       "      <td>0</td>\n",
       "      <td>40</td>\n",
       "      <td>Brasil</td>\n",
       "      <td>&gt;25K</td>\n",
       "    </tr>\n",
       "    <tr>\n",
       "      <th>32557</th>\n",
       "      <td>58</td>\n",
       "      <td>Privado</td>\n",
       "      <td>151910</td>\n",
       "      <td>Formado-EM</td>\n",
       "      <td>9</td>\n",
       "      <td>Viuvo</td>\n",
       "      <td>Assistente-administrativo</td>\n",
       "      <td>Nao-casado</td>\n",
       "      <td>Branco</td>\n",
       "      <td>Feminino</td>\n",
       "      <td>0</td>\n",
       "      <td>0</td>\n",
       "      <td>40</td>\n",
       "      <td>Brasil</td>\n",
       "      <td>&lt;=25K</td>\n",
       "    </tr>\n",
       "    <tr>\n",
       "      <th>32558</th>\n",
       "      <td>22</td>\n",
       "      <td>Privado</td>\n",
       "      <td>201490</td>\n",
       "      <td>Formado-EM</td>\n",
       "      <td>9</td>\n",
       "      <td>Nunca-casou</td>\n",
       "      <td>Assistente-administrativo</td>\n",
       "      <td>Filho-proprio</td>\n",
       "      <td>Branco</td>\n",
       "      <td>Masculino</td>\n",
       "      <td>0</td>\n",
       "      <td>0</td>\n",
       "      <td>20</td>\n",
       "      <td>Brasil</td>\n",
       "      <td>&lt;=25K</td>\n",
       "    </tr>\n",
       "    <tr>\n",
       "      <th>32559</th>\n",
       "      <td>52</td>\n",
       "      <td>Trabalhador-autonomo</td>\n",
       "      <td>287927</td>\n",
       "      <td>Formado-EM</td>\n",
       "      <td>9</td>\n",
       "      <td>Conjuge-civ-casado</td>\n",
       "      <td>Executivo-gerencial</td>\n",
       "      <td>Esposa</td>\n",
       "      <td>Branco</td>\n",
       "      <td>Feminino</td>\n",
       "      <td>15024</td>\n",
       "      <td>0</td>\n",
       "      <td>40</td>\n",
       "      <td>Brasil</td>\n",
       "      <td>&gt;25K</td>\n",
       "    </tr>\n",
       "  </tbody>\n",
       "</table>\n",
       "<p>30717 rows × 15 columns</p>\n",
       "</div>"
      ],
      "text/plain": [
       "       Idade        Classe de Trabalho  Peso Final              Educacao  \\\n",
       "0         50  Trabalhador-nao-autonomo       83311           Bacharelado   \n",
       "1         38                   Privado      215646            Formado-EM   \n",
       "2         53                   Privado      234721            2-colegial   \n",
       "3         28                   Privado      338409           Bacharelado   \n",
       "4         37                   Privado      284582              Mestrado   \n",
       "...      ...                       ...         ...                   ...   \n",
       "32555     27                   Privado      257302  Associacao-academica   \n",
       "32556     40                   Privado      154374            Formado-EM   \n",
       "32557     58                   Privado      151910            Formado-EM   \n",
       "32558     22                   Privado      201490            Formado-EM   \n",
       "32559     52      Trabalhador-autonomo      287927            Formado-EM   \n",
       "\n",
       "       Id_Educacao        Estado Civil                    Ocupacao  \\\n",
       "0               13  Conjuge-civ-casado         Executivo-gerencial   \n",
       "1                9          Divorciado                     Limpeza   \n",
       "2                7  Conjuge-civ-casado                     Limpeza   \n",
       "3               13  Conjuge-civ-casado  Profissional-especializado   \n",
       "4               14  Conjuge-civ-casado         Executivo-gerencial   \n",
       "...            ...                 ...                         ...   \n",
       "32555           12  Conjuge-civ-casado             Suporte-Tecnico   \n",
       "32556            9  Conjuge-civ-casado            Operador-maquina   \n",
       "32557            9               Viuvo   Assistente-administrativo   \n",
       "32558            9         Nunca-casou   Assistente-administrativo   \n",
       "32559            9  Conjuge-civ-casado         Executivo-gerencial   \n",
       "\n",
       "                     Relacao    Raca       Sexo  Ganho de Capital  \\\n",
       "0                     Marido  Branco  Masculino                 0   \n",
       "1      Nao-membro-da-familia  Branco  Masculino                 0   \n",
       "2                     Marido   Negro  Masculino                 0   \n",
       "3                     Esposa   Negro   Feminino                 0   \n",
       "4                     Esposa  Branco   Feminino                 0   \n",
       "...                      ...     ...        ...               ...   \n",
       "32555                 Esposa  Branco   Feminino                 0   \n",
       "32556                 Marido  Branco  Masculino                 0   \n",
       "32557             Nao-casado  Branco   Feminino                 0   \n",
       "32558          Filho-proprio  Branco  Masculino                 0   \n",
       "32559                 Esposa  Branco   Feminino             15024   \n",
       "\n",
       "       Perda de Capital  Horas-Por-Semana Nacionalidade Ganho Anual  \n",
       "0                     0                13        Brasil       <=25K  \n",
       "1                     0                40        Brasil       <=25K  \n",
       "2                     0                40        Brasil       <=25K  \n",
       "3                     0                40        Brasil       <=25K  \n",
       "4                     0                40        Brasil       <=25K  \n",
       "...                 ...               ...           ...         ...  \n",
       "32555                 0                38        Brasil       <=25K  \n",
       "32556                 0                40        Brasil        >25K  \n",
       "32557                 0                40        Brasil       <=25K  \n",
       "32558                 0                20        Brasil       <=25K  \n",
       "32559                 0                40        Brasil        >25K  \n",
       "\n",
       "[30717 rows x 15 columns]"
      ]
     },
     "execution_count": 5,
     "metadata": {},
     "output_type": "execute_result"
    }
   ],
   "source": [
    "df = pd.read_csv('adult2.csv',names=[\n",
    "        \"Idade\", \"Classe de Trabalho\", \"Peso Final\", \"Educacao\", \"Id_Educacao\", \"Estado Civil\",\n",
    "        \"Ocupacao\", \"Relacao\", \"Raca\", \"Sexo\", \"Ganho de Capital\", \"Perda de Capital\",\n",
    "        \"Horas-Por-Semana\", \"Nacionalidade\", \"Ganho Anual\"], # Traduzindo colunas para o português\n",
    "        sep=r'\\s*;\\s*',\n",
    "        engine='python',\n",
    "        na_values=\"?\", skiprows = 1).dropna() # Linha de código feita para excluir linhas que contém dados faltantes\n",
    "df"
   ]
  },
  {
   "cell_type": "markdown",
   "id": "5ff22cc2",
   "metadata": {},
   "source": [
    "#### Substituindo df por df_novo"
   ]
  },
  {
   "cell_type": "code",
   "execution_count": 6,
   "id": "15c1ee42",
   "metadata": {},
   "outputs": [],
   "source": [
    "df_novo = df"
   ]
  },
  {
   "cell_type": "markdown",
   "id": "d931caf2",
   "metadata": {},
   "source": [
    "### Transformando as 'str' do dataset em números para o treinamento dos algoritmos"
   ]
  },
  {
   "cell_type": "code",
   "execution_count": 7,
   "id": "1e55e29a",
   "metadata": {},
   "outputs": [],
   "source": [
    "# Função 'embar_atrib'\n",
    "def embar_atrib(atributo, alvo):\n",
    "    dic_em_branco = {}\n",
    "    localTargetData = {}\n",
    "    for index, element in enumerate(atributo):\n",
    "        if element not in localTargetData:\n",
    "            if alvo[index] == '<=25K':\n",
    "                localTargetData[element] = [1,0]\n",
    "            else:\n",
    "                localTargetData[element] = [0,1]\n",
    "        else:\n",
    "            if alvo[index] == '<=25K':\n",
    "                localTargetData[element][0] +=1\n",
    "            else:\n",
    "                localTargetData[element][1] += 1\n",
    "    return localTargetData"
   ]
  },
  {
   "cell_type": "code",
   "execution_count": 8,
   "id": "5d1bc154",
   "metadata": {
    "scrolled": true
   },
   "outputs": [
    {
     "name": "stdout",
     "output_type": "stream",
     "text": [
      "Trocando Trabalhador-nao-autonomo por 0.2849271940181031\n",
      "Trocando Privado por 0.21867289390200917\n",
      "Trocando Chefe-de-estado por 0.27216653816499614\n",
      "Trocando Governo-federal por 0.38645833333333335\n",
      "Trocando Governo-municipal por 0.29479216435738176\n",
      "Trocando Trabalhador-autonomo por 0.557347670250896\n",
      "Trocando Sem-remuneracao por 0.0\n",
      "Trocando Bacharelado por 0.4199961397413627\n",
      "Trocando Formado-EM por 0.16342295345104335\n",
      "Trocando 2-colegial por 0.056818181818181816\n",
      "Trocando Mestrado por 0.5617910447761194\n",
      "Trocando 9-ano por 0.056155507559395246\n",
      "Trocando Faculdade por 0.19955719557195573\n",
      "Trocando Associacao-academica por 0.25392156862745097\n",
      "Trocando Curso-profissionalizante por 0.2634367903103709\n",
      "Trocando 7ou8-ano por 0.06631762652705062\n",
      "Trocando Doutorado por 0.7412060301507538\n",
      "Trocando Pos-graduado por 0.7437275985663082\n",
      "Trocando 5ou6-ano por 0.0462046204620462\n",
      "Trocando 1-colegial por 0.07220216606498195\n",
      "Trocando Pre-escola por 0.0\n",
      "Trocando 3-colegial por 0.07888040712468193\n",
      "Trocando 1ou4-ano por 0.038461538461538464\n",
      "Trocando Conjuge-civ-casado por 0.45477369412092894\n",
      "Trocando Divorciado por 0.10732738374823861\n",
      "Trocando Casado-conjuge-ausente por 0.08483290488431877\n",
      "Trocando Nunca-casou por 0.04863283220663909\n",
      "Trocando Separado por 0.06882168925964546\n",
      "Trocando Conjuge-casado-com-FA por 0.47619047619047616\n",
      "Trocando Viuvo por 0.09642857142857143\n",
      "Trocando Executivo-gerencial por 0.4840137727496311\n",
      "Trocando Limpeza por 0.06277372262773723\n",
      "Trocando Profissional-especializado por 0.44903381642512075\n",
      "Trocando Outros-servicos por 0.04157814871016692\n",
      "Trocando Assistente-administrativo por 0.13451843990448395\n",
      "Trocando Vendas por 0.2693150684931507\n",
      "Trocando Reparo-artesanal por 0.22664064405952672\n",
      "Trocando Movimentacao-de-transporte por 0.20037570444583594\n",
      "Trocando Fazenda-pesca por 0.11569416498993963\n",
      "Trocando Operador-maquina por 0.12487512487512488\n",
      "Trocando Suporte-Tecnico por 0.30495689655172414\n",
      "Trocando Seguranca por 0.325115562403698\n",
      "Trocando Forcas-armadas por 0.1111111111111111\n",
      "Trocando Servico-caseiro-privado por 0.006711409395973154\n",
      "Trocando Marido por 0.4556832493702771\n",
      "Trocando Nao-membro-da-familia por 0.1065615462868769\n",
      "Trocando Esposa por 0.4912891986062718\n",
      "Trocando Filho-proprio por 0.014585635359116023\n",
      "Trocando Nao-casado por 0.06603485172730052\n",
      "Trocando Membro-da-familia por 0.0392156862745098\n",
      "Trocando Branco por 0.2640304182509506\n",
      "Trocando Negro por 0.12994156067377105\n",
      "Trocando Asiatico por 0.2782340862422998\n",
      "Trocando Nordicos por 0.11888111888111888\n",
      "Trocando Outros por 0.09274193548387097\n",
      "Trocando Masculino por 0.3138018954154039\n",
      "Trocando Feminino por 0.1134944612286002\n",
      "Trocando Brasil por 0.24904775857017286\n"
     ]
    }
   ],
   "source": [
    "# Laço for responsável por fazer as trocas de 'str' por 'float' nos df's\n",
    "for i in (1,3,5,6,7,8,9,13):\n",
    "    replaceDict = embar_atrib(df_novo.iloc[:,i:i+1].values.transpose()[0].tolist(),df_novo.iloc[:,df_novo.shape[1]-1:df_novo.shape[1]].values.transpose()[0].tolist())\n",
    "    for key in replaceDict:\n",
    "        df_novo = df_novo.replace(key, replaceDict[key][1]/(replaceDict[key][1]+replaceDict[key][0]))\n",
    "        print('Trocando {0} por {1}'.format(key, replaceDict[key][1]/(replaceDict[key][1]+replaceDict[key][0]) ))"
   ]
  },
  {
   "cell_type": "markdown",
   "id": "344e590a",
   "metadata": {},
   "source": [
    "#### Substituindo as classes finais (>25K por 1; <=25K por 0) "
   ]
  },
  {
   "cell_type": "code",
   "execution_count": 9,
   "id": "e74da091",
   "metadata": {},
   "outputs": [],
   "source": [
    "df_novo = df_novo.replace('>25K', 1)\n",
    "df_novo = df_novo.replace('<=25K',0)"
   ]
  },
  {
   "cell_type": "markdown",
   "id": "66cc51da",
   "metadata": {},
   "source": [
    "### Novo dataset"
   ]
  },
  {
   "cell_type": "code",
   "execution_count": 10,
   "id": "7d47a990",
   "metadata": {},
   "outputs": [
    {
     "data": {
      "text/html": [
       "<div>\n",
       "<style scoped>\n",
       "    .dataframe tbody tr th:only-of-type {\n",
       "        vertical-align: middle;\n",
       "    }\n",
       "\n",
       "    .dataframe tbody tr th {\n",
       "        vertical-align: top;\n",
       "    }\n",
       "\n",
       "    .dataframe thead th {\n",
       "        text-align: right;\n",
       "    }\n",
       "</style>\n",
       "<table border=\"1\" class=\"dataframe\">\n",
       "  <thead>\n",
       "    <tr style=\"text-align: right;\">\n",
       "      <th></th>\n",
       "      <th>Idade</th>\n",
       "      <th>Classe de Trabalho</th>\n",
       "      <th>Peso Final</th>\n",
       "      <th>Educacao</th>\n",
       "      <th>Id_Educacao</th>\n",
       "      <th>Estado Civil</th>\n",
       "      <th>Ocupacao</th>\n",
       "      <th>Relacao</th>\n",
       "      <th>Raca</th>\n",
       "      <th>Sexo</th>\n",
       "      <th>Ganho de Capital</th>\n",
       "      <th>Perda de Capital</th>\n",
       "      <th>Horas-Por-Semana</th>\n",
       "      <th>Nacionalidade</th>\n",
       "      <th>Ganho Anual</th>\n",
       "    </tr>\n",
       "  </thead>\n",
       "  <tbody>\n",
       "    <tr>\n",
       "      <th>0</th>\n",
       "      <td>50</td>\n",
       "      <td>0.284927</td>\n",
       "      <td>83311</td>\n",
       "      <td>0.419996</td>\n",
       "      <td>13</td>\n",
       "      <td>0.454774</td>\n",
       "      <td>0.484014</td>\n",
       "      <td>0.455683</td>\n",
       "      <td>0.264030</td>\n",
       "      <td>0.313802</td>\n",
       "      <td>0</td>\n",
       "      <td>0</td>\n",
       "      <td>13</td>\n",
       "      <td>0.249048</td>\n",
       "      <td>0</td>\n",
       "    </tr>\n",
       "    <tr>\n",
       "      <th>1</th>\n",
       "      <td>38</td>\n",
       "      <td>0.218673</td>\n",
       "      <td>215646</td>\n",
       "      <td>0.163423</td>\n",
       "      <td>9</td>\n",
       "      <td>0.107327</td>\n",
       "      <td>0.062774</td>\n",
       "      <td>0.106562</td>\n",
       "      <td>0.264030</td>\n",
       "      <td>0.313802</td>\n",
       "      <td>0</td>\n",
       "      <td>0</td>\n",
       "      <td>40</td>\n",
       "      <td>0.249048</td>\n",
       "      <td>0</td>\n",
       "    </tr>\n",
       "    <tr>\n",
       "      <th>2</th>\n",
       "      <td>53</td>\n",
       "      <td>0.218673</td>\n",
       "      <td>234721</td>\n",
       "      <td>0.056818</td>\n",
       "      <td>7</td>\n",
       "      <td>0.454774</td>\n",
       "      <td>0.062774</td>\n",
       "      <td>0.455683</td>\n",
       "      <td>0.129942</td>\n",
       "      <td>0.313802</td>\n",
       "      <td>0</td>\n",
       "      <td>0</td>\n",
       "      <td>40</td>\n",
       "      <td>0.249048</td>\n",
       "      <td>0</td>\n",
       "    </tr>\n",
       "    <tr>\n",
       "      <th>3</th>\n",
       "      <td>28</td>\n",
       "      <td>0.218673</td>\n",
       "      <td>338409</td>\n",
       "      <td>0.419996</td>\n",
       "      <td>13</td>\n",
       "      <td>0.454774</td>\n",
       "      <td>0.449034</td>\n",
       "      <td>0.491289</td>\n",
       "      <td>0.129942</td>\n",
       "      <td>0.113494</td>\n",
       "      <td>0</td>\n",
       "      <td>0</td>\n",
       "      <td>40</td>\n",
       "      <td>0.249048</td>\n",
       "      <td>0</td>\n",
       "    </tr>\n",
       "    <tr>\n",
       "      <th>4</th>\n",
       "      <td>37</td>\n",
       "      <td>0.218673</td>\n",
       "      <td>284582</td>\n",
       "      <td>0.561791</td>\n",
       "      <td>14</td>\n",
       "      <td>0.454774</td>\n",
       "      <td>0.484014</td>\n",
       "      <td>0.491289</td>\n",
       "      <td>0.264030</td>\n",
       "      <td>0.113494</td>\n",
       "      <td>0</td>\n",
       "      <td>0</td>\n",
       "      <td>40</td>\n",
       "      <td>0.249048</td>\n",
       "      <td>0</td>\n",
       "    </tr>\n",
       "    <tr>\n",
       "      <th>...</th>\n",
       "      <td>...</td>\n",
       "      <td>...</td>\n",
       "      <td>...</td>\n",
       "      <td>...</td>\n",
       "      <td>...</td>\n",
       "      <td>...</td>\n",
       "      <td>...</td>\n",
       "      <td>...</td>\n",
       "      <td>...</td>\n",
       "      <td>...</td>\n",
       "      <td>...</td>\n",
       "      <td>...</td>\n",
       "      <td>...</td>\n",
       "      <td>...</td>\n",
       "      <td>...</td>\n",
       "    </tr>\n",
       "    <tr>\n",
       "      <th>32555</th>\n",
       "      <td>27</td>\n",
       "      <td>0.218673</td>\n",
       "      <td>257302</td>\n",
       "      <td>0.253922</td>\n",
       "      <td>12</td>\n",
       "      <td>0.454774</td>\n",
       "      <td>0.304957</td>\n",
       "      <td>0.491289</td>\n",
       "      <td>0.264030</td>\n",
       "      <td>0.113494</td>\n",
       "      <td>0</td>\n",
       "      <td>0</td>\n",
       "      <td>38</td>\n",
       "      <td>0.249048</td>\n",
       "      <td>0</td>\n",
       "    </tr>\n",
       "    <tr>\n",
       "      <th>32556</th>\n",
       "      <td>40</td>\n",
       "      <td>0.218673</td>\n",
       "      <td>154374</td>\n",
       "      <td>0.163423</td>\n",
       "      <td>9</td>\n",
       "      <td>0.454774</td>\n",
       "      <td>0.124875</td>\n",
       "      <td>0.455683</td>\n",
       "      <td>0.264030</td>\n",
       "      <td>0.313802</td>\n",
       "      <td>0</td>\n",
       "      <td>0</td>\n",
       "      <td>40</td>\n",
       "      <td>0.249048</td>\n",
       "      <td>1</td>\n",
       "    </tr>\n",
       "    <tr>\n",
       "      <th>32557</th>\n",
       "      <td>58</td>\n",
       "      <td>0.218673</td>\n",
       "      <td>151910</td>\n",
       "      <td>0.163423</td>\n",
       "      <td>9</td>\n",
       "      <td>0.096429</td>\n",
       "      <td>0.134518</td>\n",
       "      <td>0.066035</td>\n",
       "      <td>0.264030</td>\n",
       "      <td>0.113494</td>\n",
       "      <td>0</td>\n",
       "      <td>0</td>\n",
       "      <td>40</td>\n",
       "      <td>0.249048</td>\n",
       "      <td>0</td>\n",
       "    </tr>\n",
       "    <tr>\n",
       "      <th>32558</th>\n",
       "      <td>22</td>\n",
       "      <td>0.218673</td>\n",
       "      <td>201490</td>\n",
       "      <td>0.163423</td>\n",
       "      <td>9</td>\n",
       "      <td>0.048633</td>\n",
       "      <td>0.134518</td>\n",
       "      <td>0.014586</td>\n",
       "      <td>0.264030</td>\n",
       "      <td>0.313802</td>\n",
       "      <td>0</td>\n",
       "      <td>0</td>\n",
       "      <td>20</td>\n",
       "      <td>0.249048</td>\n",
       "      <td>0</td>\n",
       "    </tr>\n",
       "    <tr>\n",
       "      <th>32559</th>\n",
       "      <td>52</td>\n",
       "      <td>0.557348</td>\n",
       "      <td>287927</td>\n",
       "      <td>0.163423</td>\n",
       "      <td>9</td>\n",
       "      <td>0.454774</td>\n",
       "      <td>0.484014</td>\n",
       "      <td>0.491289</td>\n",
       "      <td>0.264030</td>\n",
       "      <td>0.113494</td>\n",
       "      <td>15024</td>\n",
       "      <td>0</td>\n",
       "      <td>40</td>\n",
       "      <td>0.249048</td>\n",
       "      <td>1</td>\n",
       "    </tr>\n",
       "  </tbody>\n",
       "</table>\n",
       "<p>30717 rows × 15 columns</p>\n",
       "</div>"
      ],
      "text/plain": [
       "       Idade  Classe de Trabalho  Peso Final  Educacao  Id_Educacao  \\\n",
       "0         50            0.284927       83311  0.419996           13   \n",
       "1         38            0.218673      215646  0.163423            9   \n",
       "2         53            0.218673      234721  0.056818            7   \n",
       "3         28            0.218673      338409  0.419996           13   \n",
       "4         37            0.218673      284582  0.561791           14   \n",
       "...      ...                 ...         ...       ...          ...   \n",
       "32555     27            0.218673      257302  0.253922           12   \n",
       "32556     40            0.218673      154374  0.163423            9   \n",
       "32557     58            0.218673      151910  0.163423            9   \n",
       "32558     22            0.218673      201490  0.163423            9   \n",
       "32559     52            0.557348      287927  0.163423            9   \n",
       "\n",
       "       Estado Civil  Ocupacao   Relacao      Raca      Sexo  Ganho de Capital  \\\n",
       "0          0.454774  0.484014  0.455683  0.264030  0.313802                 0   \n",
       "1          0.107327  0.062774  0.106562  0.264030  0.313802                 0   \n",
       "2          0.454774  0.062774  0.455683  0.129942  0.313802                 0   \n",
       "3          0.454774  0.449034  0.491289  0.129942  0.113494                 0   \n",
       "4          0.454774  0.484014  0.491289  0.264030  0.113494                 0   \n",
       "...             ...       ...       ...       ...       ...               ...   \n",
       "32555      0.454774  0.304957  0.491289  0.264030  0.113494                 0   \n",
       "32556      0.454774  0.124875  0.455683  0.264030  0.313802                 0   \n",
       "32557      0.096429  0.134518  0.066035  0.264030  0.113494                 0   \n",
       "32558      0.048633  0.134518  0.014586  0.264030  0.313802                 0   \n",
       "32559      0.454774  0.484014  0.491289  0.264030  0.113494             15024   \n",
       "\n",
       "       Perda de Capital  Horas-Por-Semana  Nacionalidade  Ganho Anual  \n",
       "0                     0                13       0.249048            0  \n",
       "1                     0                40       0.249048            0  \n",
       "2                     0                40       0.249048            0  \n",
       "3                     0                40       0.249048            0  \n",
       "4                     0                40       0.249048            0  \n",
       "...                 ...               ...            ...          ...  \n",
       "32555                 0                38       0.249048            0  \n",
       "32556                 0                40       0.249048            1  \n",
       "32557                 0                40       0.249048            0  \n",
       "32558                 0                20       0.249048            0  \n",
       "32559                 0                40       0.249048            1  \n",
       "\n",
       "[30717 rows x 15 columns]"
      ]
     },
     "execution_count": 10,
     "metadata": {},
     "output_type": "execute_result"
    }
   ],
   "source": [
    "df_novo"
   ]
  },
  {
   "cell_type": "markdown",
   "id": "00640e80",
   "metadata": {},
   "source": [
    "### Aplicando o algoritmo de Regressão Logística"
   ]
  },
  {
   "cell_type": "code",
   "execution_count": 11,
   "id": "48f9d7c4",
   "metadata": {},
   "outputs": [
    {
     "data": {
      "text/plain": [
       "array([[5.00000000e+01, 2.84927194e-01, 8.33110000e+04, ...,\n",
       "        1.30000000e+01, 2.49047759e-01, 0.00000000e+00],\n",
       "       [3.80000000e+01, 2.18672894e-01, 2.15646000e+05, ...,\n",
       "        4.00000000e+01, 2.49047759e-01, 0.00000000e+00],\n",
       "       [5.30000000e+01, 2.18672894e-01, 2.34721000e+05, ...,\n",
       "        4.00000000e+01, 2.49047759e-01, 0.00000000e+00],\n",
       "       ...,\n",
       "       [5.80000000e+01, 2.18672894e-01, 1.51910000e+05, ...,\n",
       "        4.00000000e+01, 2.49047759e-01, 0.00000000e+00],\n",
       "       [2.20000000e+01, 2.18672894e-01, 2.01490000e+05, ...,\n",
       "        2.00000000e+01, 2.49047759e-01, 0.00000000e+00],\n",
       "       [5.20000000e+01, 5.57347670e-01, 2.87927000e+05, ...,\n",
       "        4.00000000e+01, 2.49047759e-01, 1.00000000e+00]])"
      ]
     },
     "execution_count": 11,
     "metadata": {},
     "output_type": "execute_result"
    }
   ],
   "source": [
    "# A função to_numpy() é usada para retornar um ndarray NumPy que representa os valores em determinada série ou índice.\n",
    "df_novo1 = df_novo.to_numpy()\n",
    "df_novo1"
   ]
  },
  {
   "cell_type": "code",
   "execution_count": 12,
   "id": "f0e24f9b",
   "metadata": {},
   "outputs": [
    {
     "data": {
      "text/plain": [
       "(30717, 15)"
      ]
     },
     "execution_count": 12,
     "metadata": {},
     "output_type": "execute_result"
    }
   ],
   "source": [
    "nrow,ncol = df_novo1.shape\n",
    "df_novo1.shape"
   ]
  },
  {
   "cell_type": "markdown",
   "id": "cedfa4c2",
   "metadata": {},
   "source": [
    "30717 Linhas e 15 Colunas"
   ]
  },
  {
   "cell_type": "code",
   "execution_count": 13,
   "id": "7304d3ab",
   "metadata": {},
   "outputs": [
    {
     "data": {
      "text/plain": [
       "array([[5.00000000e+01, 2.84927194e-01, 8.33110000e+04, ...,\n",
       "        0.00000000e+00, 1.30000000e+01, 2.49047759e-01],\n",
       "       [3.80000000e+01, 2.18672894e-01, 2.15646000e+05, ...,\n",
       "        0.00000000e+00, 4.00000000e+01, 2.49047759e-01],\n",
       "       [5.30000000e+01, 2.18672894e-01, 2.34721000e+05, ...,\n",
       "        0.00000000e+00, 4.00000000e+01, 2.49047759e-01],\n",
       "       ...,\n",
       "       [5.80000000e+01, 2.18672894e-01, 1.51910000e+05, ...,\n",
       "        0.00000000e+00, 4.00000000e+01, 2.49047759e-01],\n",
       "       [2.20000000e+01, 2.18672894e-01, 2.01490000e+05, ...,\n",
       "        0.00000000e+00, 2.00000000e+01, 2.49047759e-01],\n",
       "       [5.20000000e+01, 5.57347670e-01, 2.87927000e+05, ...,\n",
       "        0.00000000e+00, 4.00000000e+01, 2.49047759e-01]])"
      ]
     },
     "execution_count": 13,
     "metadata": {},
     "output_type": "execute_result"
    }
   ],
   "source": [
    "# Atributos a serem considerados\n",
    "X = df_novo1[:,0:ncol-1]\n",
    "df_novo1[:,0:ncol-1]"
   ]
  },
  {
   "cell_type": "code",
   "execution_count": 14,
   "id": "64cb6215",
   "metadata": {},
   "outputs": [
    {
     "data": {
      "text/plain": [
       "array([0., 0., 0., ..., 0., 0., 1.])"
      ]
     },
     "execution_count": 14,
     "metadata": {},
     "output_type": "execute_result"
    }
   ],
   "source": [
    "# Classe final\n",
    "y = df_novo1[:,-1]\n",
    "df_novo1[:,-1]"
   ]
  },
  {
   "cell_type": "code",
   "execution_count": 15,
   "id": "758d85b9",
   "metadata": {},
   "outputs": [
    {
     "data": {
      "text/plain": [
       "array([[ 0.88094485,  0.50614735, -1.01025865, ..., -0.21918304,\n",
       "        -2.33195294,  0.        ],\n",
       "       [-0.03381291, -0.42849496,  0.24462059, ..., -0.21918304,\n",
       "        -0.0792085 ,  0.        ],\n",
       "       [ 1.10963429, -0.42849496,  0.42550109, ..., -0.21918304,\n",
       "        -0.0792085 ,  0.        ],\n",
       "       ...,\n",
       "       [ 1.49078336, -0.42849496, -0.3597621 , ..., -0.21918304,\n",
       "        -0.0792085 ,  0.        ],\n",
       "       [-1.25348993, -0.42849496,  0.11038497, ..., -0.21918304,\n",
       "        -1.74790808,  0.        ],\n",
       "       [ 1.03340448,  4.34915378,  0.93003205, ..., -0.21918304,\n",
       "        -0.0792085 ,  0.        ]])"
      ]
     },
     "execution_count": 15,
     "metadata": {},
     "output_type": "execute_result"
    }
   ],
   "source": [
    "# Padronização de dados\n",
    "logi = StandardScaler().fit(X)\n",
    "X = logi.transform(X)\n",
    "X"
   ]
  },
  {
   "cell_type": "code",
   "execution_count": 16,
   "id": "09bcf5bf",
   "metadata": {},
   "outputs": [],
   "source": [
    "# Separando os X's e Y's para teste e treino (30% dos dados serão utilizados para teste)\n",
    "X_train, X_test, y_train, y_test = train_test_split(X, y, test_size = 0.30, random_state = 42)"
   ]
  },
  {
   "cell_type": "code",
   "execution_count": 17,
   "id": "3b83ab23",
   "metadata": {},
   "outputs": [
    {
     "data": {
      "text/plain": [
       "LogisticRegression(max_iter=1000)"
      ]
     },
     "execution_count": 17,
     "metadata": {},
     "output_type": "execute_result"
    }
   ],
   "source": [
    "# Função do algoritmo de regressão linear\n",
    "logist = LogisticRegression(solver = 'lbfgs', multi_class = 'auto', max_iter = 1000)\n",
    "\n",
    "# Normalização dos valores X_train e Y_train com a função 'fit()'\n",
    "logist.fit(X_train,y_train)"
   ]
  },
  {
   "cell_type": "code",
   "execution_count": 18,
   "id": "afb5cf53",
   "metadata": {},
   "outputs": [
    {
     "data": {
      "text/plain": [
       "array([0., 1., 0., ..., 0., 1., 0.])"
      ]
     },
     "execution_count": 18,
     "metadata": {},
     "output_type": "execute_result"
    }
   ],
   "source": [
    "# Valores preditos\n",
    "y_pred = logist.predict(X_test)\n",
    "y_pred"
   ]
  },
  {
   "cell_type": "code",
   "execution_count": 19,
   "id": "d606a6d2",
   "metadata": {},
   "outputs": [
    {
     "data": {
      "text/plain": [
       "array([0., 0., 0., ..., 0., 0., 0.])"
      ]
     },
     "execution_count": 19,
     "metadata": {},
     "output_type": "execute_result"
    }
   ],
   "source": [
    "# Valores testados\n",
    "y_test"
   ]
  },
  {
   "cell_type": "markdown",
   "id": "a1eadb7b",
   "metadata": {},
   "source": [
    "### Avaliando o algoritmo de Regressão Logística"
   ]
  },
  {
   "cell_type": "code",
   "execution_count": 20,
   "id": "a4a1c8d4",
   "metadata": {},
   "outputs": [
    {
     "name": "stdout",
     "output_type": "stream",
     "text": [
      "              precision    recall  f1-score   support\n",
      "\n",
      "           0       0.87      0.93      0.90      6972\n",
      "           1       0.73      0.58      0.65      2244\n",
      "\n",
      "    accuracy                           0.85      9216\n",
      "   macro avg       0.80      0.76      0.77      9216\n",
      "weighted avg       0.84      0.85      0.84      9216\n",
      "\n"
     ]
    }
   ],
   "source": [
    "print(classification_report(y_test, y_pred, target_names = ['0','1']))"
   ]
  },
  {
   "attachments": {},
   "cell_type": "markdown",
   "id": "63e7057a",
   "metadata": {},
   "source": [
    "![](Images/metricas.JPG)"
   ]
  },
  {
   "cell_type": "code",
   "execution_count": 21,
   "id": "ace2a48e",
   "metadata": {},
   "outputs": [
    {
     "data": {
      "text/plain": [
       "array([[6480,  492],\n",
       "       [ 935, 1309]], dtype=int64)"
      ]
     },
     "execution_count": 21,
     "metadata": {},
     "output_type": "execute_result"
    }
   ],
   "source": [
    "confusion_matrix(y_test, y_pred)"
   ]
  },
  {
   "attachments": {},
   "cell_type": "markdown",
   "id": "9fc1dd93",
   "metadata": {},
   "source": [
    "![](Images/Matriz1.JPG)\n",
    "![](Images/Matriz2.JPG)"
   ]
  },
  {
   "cell_type": "markdown",
   "id": "d695bf13",
   "metadata": {},
   "source": [
    "Das 7415 pessoas da amostra que ganham menos de 25K, 6480 foram previstas corretamente, enquanto 935 foram preditas ganhando mais de 25K. Já das 1801 pessoas da amostra que ganham mais de 25K, 1309 foram previstas corretamente, enquanto 492 foram preditas ganhando menos de 25K."
   ]
  },
  {
   "cell_type": "markdown",
   "id": "af66e2b2",
   "metadata": {},
   "source": [
    "### Persistindo o algoritmo de Regressão Logística"
   ]
  },
  {
   "cell_type": "code",
   "execution_count": 22,
   "id": "a8d05ab4",
   "metadata": {},
   "outputs": [
    {
     "data": {
      "text/plain": [
       "['LOG_SocioTorcedor.sav']"
      ]
     },
     "execution_count": 22,
     "metadata": {},
     "output_type": "execute_result"
    }
   ],
   "source": [
    "arq_log = 'LOG_SocioTorcedor.sav'\n",
    "joblib.dump(logist,arq_log)"
   ]
  },
  {
   "cell_type": "code",
   "execution_count": 23,
   "id": "7ab3bca4",
   "metadata": {},
   "outputs": [
    {
     "name": "stdout",
     "output_type": "stream",
     "text": [
      "0.8451605902777778\n"
     ]
    }
   ],
   "source": [
    "log_carregado = joblib.load(arq_log)\n",
    "resultado = log_carregado.score(X_test, y_test)\n",
    "print(resultado)"
   ]
  },
  {
   "cell_type": "markdown",
   "id": "456301dd",
   "metadata": {},
   "source": [
    "#### ACURÁCIA FINAL = 84,5%"
   ]
  }
 ],
 "metadata": {
  "kernelspec": {
   "display_name": "Python 3",
   "language": "python",
   "name": "python3"
  },
  "language_info": {
   "codemirror_mode": {
    "name": "ipython",
    "version": 3
   },
   "file_extension": ".py",
   "mimetype": "text/x-python",
   "name": "python",
   "nbconvert_exporter": "python",
   "pygments_lexer": "ipython3",
   "version": "3.8.8"
  }
 },
 "nbformat": 4,
 "nbformat_minor": 5
}
