{
 "cells": [
  {
   "cell_type": "markdown",
   "id": "2e06c90b",
   "metadata": {},
   "source": [
    "# *SQL e Python no Mundo do Futebol e suas possíveis aplicações*"
   ]
  },
  {
   "cell_type": "markdown",
   "id": "a7109fd7",
   "metadata": {},
   "source": [
    "## <u>Com SQL...<u/>"
   ]
  },
  {
   "cell_type": "markdown",
   "id": "19cbe7d0",
   "metadata": {},
   "source": [
    "Simulei uma situação onde uma agência de olheiros de diversos clubes, procura jogadores que possam melhorar o desempenho de sua equipe através de um banco de dados contendo os 100 artilheiros da última edição da Champions League realizada na temporada 2020/2021 como exemplo de amostra.\n",
    "\n",
    "A proposta é através do Sqlite com o programa DB Browser(SQLite), filtrar de acordo com a necessidade de cada olheiro entregando um relatório para ele,mostrando o(s) jogador(es) ideal(is) para o seu time, além de otimizar o seu tempo, onde normalmente um olheiro costuma levar dias ou semanas observando um jogador. Com uma análise precisa, ele com certeza encurtaria esse tempo, tendo uma base da forma com que cada jogador analisado possa jogar."
   ]
  },
  {
   "cell_type": "markdown",
   "id": "d2ed4c51",
   "metadata": {},
   "source": [
    "## Tipos de Modelos Relacionais:"
   ]
  },
  {
   "cell_type": "markdown",
   "id": "15feafe2",
   "metadata": {},
   "source": [
    "### ➢ Modelo Conceitual"
   ]
  },
  {
   "cell_type": "markdown",
   "id": "e9beea8b",
   "metadata": {},
   "source": [
    "O modelo conceitual é um diagrama em blocos que demonstra todas as relações entre as entidades, suas especializações, seus atributos e auto-relações."
   ]
  },
  {
   "attachments": {},
   "cell_type": "markdown",
   "id": "08b173f5",
   "metadata": {},
   "source": [
    "![](Images/sql1.JPG)"
   ]
  },
  {
   "cell_type": "markdown",
   "id": "3b02b929",
   "metadata": {},
   "source": [
    "### ➢ Modelo Lógico"
   ]
  },
  {
   "cell_type": "markdown",
   "id": "b6fc3c25",
   "metadata": {},
   "source": [
    "O modelo lógico mostra as ligações entre as tabelas de banco de dados, as chaves primárias, os componentes de cada uma, etc."
   ]
  },
  {
   "attachments": {},
   "cell_type": "markdown",
   "id": "43960704",
   "metadata": {},
   "source": [
    "![](Images/sql2.JPG)"
   ]
  },
  {
   "cell_type": "markdown",
   "id": "6ee8fe62",
   "metadata": {},
   "source": [
    "### ➢ Modelo Físico"
   ]
  },
  {
   "cell_type": "markdown",
   "id": "f5e12407",
   "metadata": {},
   "source": [
    "O modelo físico inclui a análise das características e recursos necessários para armazenamento e manipulação das estruturas de dados (estrutura de armazenamento, endereçamento, acesso e alocação física), sendo uma sequência de comandos executados em SQL a fim de criar as tabelas, estruturas e ligações projetadas até então e finalmente criar o banco de dados."
   ]
  },
  {
   "cell_type": "markdown",
   "id": "a45cc351",
   "metadata": {},
   "source": [
    "### Tabela Jogadores"
   ]
  },
  {
   "attachments": {},
   "cell_type": "markdown",
   "id": "446429e0",
   "metadata": {},
   "source": [
    "![](Images/sql3.JPG)"
   ]
  },
  {
   "cell_type": "markdown",
   "id": "bcd7fdc8",
   "metadata": {},
   "source": [
    "### Tabela Estatísticas"
   ]
  },
  {
   "attachments": {},
   "cell_type": "markdown",
   "id": "dce2bf24",
   "metadata": {},
   "source": [
    "![](Images/sql4.JPG)"
   ]
  },
  {
   "cell_type": "markdown",
   "id": "dfcf533c",
   "metadata": {},
   "source": [
    "### Tabela Times"
   ]
  },
  {
   "attachments": {},
   "cell_type": "markdown",
   "id": "12315436",
   "metadata": {},
   "source": [
    "![](Images/sql5.JPG)"
   ]
  },
  {
   "cell_type": "markdown",
   "id": "5c78a87e",
   "metadata": {},
   "source": [
    "### Tabela Olheiros"
   ]
  },
  {
   "attachments": {},
   "cell_type": "markdown",
   "id": "1f7682bb",
   "metadata": {},
   "source": [
    "![](Images/sql6.JPG)"
   ]
  },
  {
   "cell_type": "markdown",
   "id": "875d201d",
   "metadata": {},
   "source": [
    "### Tabela Jogadores-Times"
   ]
  },
  {
   "attachments": {},
   "cell_type": "markdown",
   "id": "6ed85363",
   "metadata": {},
   "source": [
    "![](Images/sql7.JPG)"
   ]
  },
  {
   "cell_type": "markdown",
   "id": "e460a568",
   "metadata": {},
   "source": [
    "#### Usaremos 3 olheiros \"x\" como exemplo"
   ]
  },
  {
   "attachments": {},
   "cell_type": "markdown",
   "id": "c3e1136b",
   "metadata": {},
   "source": [
    "### ➢ OLHEIRO 1\n",
    "#### Requisitos:\n",
    "![](Images/sql8.JPG)\n",
    "#### Resultado da busca:\n",
    "![](Images/sql9.JPG)"
   ]
  },
  {
   "attachments": {},
   "cell_type": "markdown",
   "id": "da33b815",
   "metadata": {},
   "source": [
    "### ➢ OLHEIRO 2\n",
    "#### Requisitos:\n",
    "![](Images/sql10.JPG)\n",
    "#### Resultado da busca:\n",
    "![](Images/sql11.JPG)"
   ]
  },
  {
   "attachments": {},
   "cell_type": "markdown",
   "id": "20e5bbcd",
   "metadata": {},
   "source": [
    "### ➢ OLHEIRO 3\n",
    "#### Requisitos:\n",
    "![](Images/sql12.JPG)\n",
    "#### Resultado da busca:\n",
    "![](Images/sql13.JPG)"
   ]
  },
  {
   "cell_type": "markdown",
   "id": "1a6addec",
   "metadata": {},
   "source": [
    "##### Comandos utilizados:\n",
    "**\"Select\":** Comando que seleciona as informações necessárias (aquilo que aparece para o usuário)\n",
    "<br/>\n",
    "<br/>\n",
    "**\"*\":** Equivalente a tudo de uma tabela (todas as informações contidas na tabela)\n",
    "<br/>\n",
    "<br/>\n",
    "**\"from\":** Comando que antecede a qual(is) tabela(s) específica(s) você deseja\n",
    "<br/>\n",
    "<br/>\n",
    "**\"arq_olheiros\":** Tabela Olheiros\n",
    "<br/>\n",
    "<br/>\n",
    "**\"arq_jog_times\":** Tabela Jogadores-Times\n",
    "<br/>\n",
    "<br/>\n",
    "**\"arq_estatisticas\":** Tabela Estatísticas\n",
    "<br/>\n",
    "<br/>\n",
    "**\"where\":** Comando que antecede as características que você quer filtrar\n",
    "<br/>\n",
    "<br/>\n",
    "**\"id = x\":** Característica ID, onde será apenas considerado o id igual ao número \"x\"\n",
    "<br/>\n",
    "<br/>\n",
    "**\"Posicao = 'x' \":** Característica Posição, onde será apenas considerada a posição igual ao texto \"x\"\n",
    "<br/>\n",
    "<br/>\n",
    "**\"Nacionalidade = 'x' \":** Característica Nacionalidade, onde será apenas considerada a nacionalidade igual ao texto \"x\"\n",
    "<br/>\n",
    "<br/>\n",
    "**\"Idade (=,<,>) 'x' \":** Característica Idade de um jogador, onde será apenas considerada a idade igual, maior ou menor que \"x\"\n",
    "<br/>\n",
    "<br/>\n",
    "**\"Valor_mi_Eur (=,<,>) 'x' \":** Característica Valor em milhões de euros de um jogador, onde será apenas considerado o valor igual, maior ou menor que \"x\"\n",
    "<br/>\n",
    "<br/>\n",
    "**\"gols (=,<,>) 'x' \":** Característica Gols de um jogador, onde será apenas considerado o valor igual, maior ou menor que \"x\"\n",
    "<br/>\n",
    "<br/>\n",
    "**\";\":** Comando que faz com que apenas a última sequência de código seja considerada caso haja mais de uma\n",
    "<br/>\n",
    "<br/>\n",
    "**\"and\":** Comando que adiciona mais filtros à sua busca\n",
    "<br/>\n",
    "<br/>\n",
    "**\"Id = Id_Estatistica\":** Comando que serve para que os filtros que envolvem as estatísticas de um jogador sejam validados"
   ]
  },
  {
   "cell_type": "markdown",
   "id": "404e2bba",
   "metadata": {},
   "source": [
    "#### Benefícios da linguagem SQL (banco de dados) :\n",
    "➞ Mais agilidade para migrar aplicações e informações para novos bancos de dados;\n",
    "\n",
    "➞ Menos erros na manipulação de dados no dia a dia do negócio; maior padronização das operações que envolvem o uso de dados;\n",
    "\n",
    "➞ Possibilidade de integrar os bancos de dados a mais aplicações, como sistemas de gestão integrada e ferramentas de análise de dados."
   ]
  }
 ],
 "metadata": {
  "kernelspec": {
   "display_name": "Python 3",
   "language": "python",
   "name": "python3"
  },
  "language_info": {
   "codemirror_mode": {
    "name": "ipython",
    "version": 3
   },
   "file_extension": ".py",
   "mimetype": "text/x-python",
   "name": "python",
   "nbconvert_exporter": "python",
   "pygments_lexer": "ipython3",
   "version": "3.8.8"
  }
 },
 "nbformat": 4,
 "nbformat_minor": 5
}
