{
 "cells": [
  {
   "cell_type": "markdown",
   "id": "1175f268",
   "metadata": {},
   "source": [
    "# *SQL e Python no Mundo do Futebol e suas possíveis aplicações*"
   ]
  },
  {
   "cell_type": "markdown",
   "id": "84fe7787",
   "metadata": {},
   "source": [
    "## <u>Com Python...<u/>"
   ]
  },
  {
   "cell_type": "markdown",
   "id": "f59873d0",
   "metadata": {},
   "source": [
    "Para o algoritmo de regressão linear, utilizei um gráfico baseado no dataset carregado a seguir, para testar e avaliar o algoritmo"
   ]
  },
  {
   "cell_type": "markdown",
   "id": "5d7ad33a",
   "metadata": {},
   "source": [
    "##### O que é Regressão Linear e pra que serve?\n",
    "A regressão linear é um trabalho das áreas de estatística e econometria cujo objetivo principal está na análise de duas variáveis e seus respectivos resultados. Essa análise sempre parte de uma variável chamada de dependente com outras chamadas de independentes. Serve para encontrar relações entre essas variáveis de análise."
   ]
  },
  {
   "cell_type": "markdown",
   "id": "277f35d0",
   "metadata": {},
   "source": [
    "#### Importando todas as bibliotecas necessárias"
   ]
  },
  {
   "cell_type": "code",
   "execution_count": 1,
   "id": "90e5f191",
   "metadata": {},
   "outputs": [],
   "source": [
    "from sklearn.linear_model import LinearRegression\n",
    "from sklearn.preprocessing import StandardScaler\n",
    "from sklearn.pipeline import Pipeline\n",
    "from sklearn.model_selection import GridSearchCV\n",
    "from sklearn.model_selection import train_test_split\n",
    "from sklearn.metrics import confusion_matrix\n",
    "from sklearn.metrics import f1_score\n",
    "from sklearn.metrics import precision_score\n",
    "from sklearn.metrics import recall_score\n",
    "from sklearn.metrics import accuracy_score\n",
    "from sklearn.metrics import classification_report\n",
    "from sklearn.metrics import mean_absolute_error,mean_squared_error\n",
    "from sklearn.feature_extraction.text import CountVectorizer\n",
    "from math import sqrt\n",
    "import numpy as np\n",
    "import pandas as pd\n",
    "import matplotlib.pyplot as plt\n",
    "import matplotlib as mpl\n",
    "import seaborn as sb\n",
    "import joblib\n",
    "\n",
    "%matplotlib inline\n",
    "mpl.rcParams['figure.dpi']= 100"
   ]
  },
  {
   "cell_type": "markdown",
   "id": "234dc751",
   "metadata": {},
   "source": [
    "#### Leitura dos dataframes"
   ]
  },
  {
   "cell_type": "code",
   "execution_count": 2,
   "id": "3d436856",
   "metadata": {},
   "outputs": [
    {
     "data": {
      "text/html": [
       "<div>\n",
       "<style scoped>\n",
       "    .dataframe tbody tr th:only-of-type {\n",
       "        vertical-align: middle;\n",
       "    }\n",
       "\n",
       "    .dataframe tbody tr th {\n",
       "        vertical-align: top;\n",
       "    }\n",
       "\n",
       "    .dataframe thead th {\n",
       "        text-align: right;\n",
       "    }\n",
       "</style>\n",
       "<table border=\"1\" class=\"dataframe\">\n",
       "  <thead>\n",
       "    <tr style=\"text-align: right;\">\n",
       "      <th></th>\n",
       "      <th>Idade</th>\n",
       "      <th>Classe de Trabalho</th>\n",
       "      <th>Peso Final</th>\n",
       "      <th>Educacao</th>\n",
       "      <th>Id_Educacao</th>\n",
       "      <th>Estado Civil</th>\n",
       "      <th>Ocupacao</th>\n",
       "      <th>Relacao</th>\n",
       "      <th>Raca</th>\n",
       "      <th>Sexo</th>\n",
       "      <th>Ganho de Capital</th>\n",
       "      <th>Perda de Capital</th>\n",
       "      <th>Horas-Por-Semana</th>\n",
       "      <th>Nacionalidade</th>\n",
       "      <th>Ganho Anual</th>\n",
       "    </tr>\n",
       "  </thead>\n",
       "  <tbody>\n",
       "    <tr>\n",
       "      <th>0</th>\n",
       "      <td>50</td>\n",
       "      <td>Trabalhador-nao-autonomo</td>\n",
       "      <td>83311</td>\n",
       "      <td>Bacharelado</td>\n",
       "      <td>13</td>\n",
       "      <td>Conjuge-civ-casado</td>\n",
       "      <td>Executivo-gerencial</td>\n",
       "      <td>Marido</td>\n",
       "      <td>Branco</td>\n",
       "      <td>Masculino</td>\n",
       "      <td>0</td>\n",
       "      <td>0</td>\n",
       "      <td>13</td>\n",
       "      <td>Brasil</td>\n",
       "      <td>&lt;=25K</td>\n",
       "    </tr>\n",
       "    <tr>\n",
       "      <th>1</th>\n",
       "      <td>38</td>\n",
       "      <td>Privado</td>\n",
       "      <td>215646</td>\n",
       "      <td>Formado-EM</td>\n",
       "      <td>9</td>\n",
       "      <td>Divorciado</td>\n",
       "      <td>Limpeza</td>\n",
       "      <td>Nao-membro-da-familia</td>\n",
       "      <td>Branco</td>\n",
       "      <td>Masculino</td>\n",
       "      <td>0</td>\n",
       "      <td>0</td>\n",
       "      <td>40</td>\n",
       "      <td>Brasil</td>\n",
       "      <td>&lt;=25K</td>\n",
       "    </tr>\n",
       "    <tr>\n",
       "      <th>2</th>\n",
       "      <td>53</td>\n",
       "      <td>Privado</td>\n",
       "      <td>234721</td>\n",
       "      <td>2-colegial</td>\n",
       "      <td>7</td>\n",
       "      <td>Conjuge-civ-casado</td>\n",
       "      <td>Limpeza</td>\n",
       "      <td>Marido</td>\n",
       "      <td>Negro</td>\n",
       "      <td>Masculino</td>\n",
       "      <td>0</td>\n",
       "      <td>0</td>\n",
       "      <td>40</td>\n",
       "      <td>Brasil</td>\n",
       "      <td>&lt;=25K</td>\n",
       "    </tr>\n",
       "    <tr>\n",
       "      <th>3</th>\n",
       "      <td>28</td>\n",
       "      <td>Privado</td>\n",
       "      <td>338409</td>\n",
       "      <td>Bacharelado</td>\n",
       "      <td>13</td>\n",
       "      <td>Conjuge-civ-casado</td>\n",
       "      <td>Profissional-especializado</td>\n",
       "      <td>Esposa</td>\n",
       "      <td>Negro</td>\n",
       "      <td>Feminino</td>\n",
       "      <td>0</td>\n",
       "      <td>0</td>\n",
       "      <td>40</td>\n",
       "      <td>Brasil</td>\n",
       "      <td>&lt;=25K</td>\n",
       "    </tr>\n",
       "    <tr>\n",
       "      <th>4</th>\n",
       "      <td>37</td>\n",
       "      <td>Privado</td>\n",
       "      <td>284582</td>\n",
       "      <td>Mestrado</td>\n",
       "      <td>14</td>\n",
       "      <td>Conjuge-civ-casado</td>\n",
       "      <td>Executivo-gerencial</td>\n",
       "      <td>Esposa</td>\n",
       "      <td>Branco</td>\n",
       "      <td>Feminino</td>\n",
       "      <td>0</td>\n",
       "      <td>0</td>\n",
       "      <td>40</td>\n",
       "      <td>Brasil</td>\n",
       "      <td>&lt;=25K</td>\n",
       "    </tr>\n",
       "    <tr>\n",
       "      <th>...</th>\n",
       "      <td>...</td>\n",
       "      <td>...</td>\n",
       "      <td>...</td>\n",
       "      <td>...</td>\n",
       "      <td>...</td>\n",
       "      <td>...</td>\n",
       "      <td>...</td>\n",
       "      <td>...</td>\n",
       "      <td>...</td>\n",
       "      <td>...</td>\n",
       "      <td>...</td>\n",
       "      <td>...</td>\n",
       "      <td>...</td>\n",
       "      <td>...</td>\n",
       "      <td>...</td>\n",
       "    </tr>\n",
       "    <tr>\n",
       "      <th>32555</th>\n",
       "      <td>27</td>\n",
       "      <td>Privado</td>\n",
       "      <td>257302</td>\n",
       "      <td>Associacao-academica</td>\n",
       "      <td>12</td>\n",
       "      <td>Conjuge-civ-casado</td>\n",
       "      <td>Suporte-Tecnico</td>\n",
       "      <td>Esposa</td>\n",
       "      <td>Branco</td>\n",
       "      <td>Feminino</td>\n",
       "      <td>0</td>\n",
       "      <td>0</td>\n",
       "      <td>38</td>\n",
       "      <td>Brasil</td>\n",
       "      <td>&lt;=25K</td>\n",
       "    </tr>\n",
       "    <tr>\n",
       "      <th>32556</th>\n",
       "      <td>40</td>\n",
       "      <td>Privado</td>\n",
       "      <td>154374</td>\n",
       "      <td>Formado-EM</td>\n",
       "      <td>9</td>\n",
       "      <td>Conjuge-civ-casado</td>\n",
       "      <td>Operador-maquina</td>\n",
       "      <td>Marido</td>\n",
       "      <td>Branco</td>\n",
       "      <td>Masculino</td>\n",
       "      <td>0</td>\n",
       "      <td>0</td>\n",
       "      <td>40</td>\n",
       "      <td>Brasil</td>\n",
       "      <td>&gt;25K</td>\n",
       "    </tr>\n",
       "    <tr>\n",
       "      <th>32557</th>\n",
       "      <td>58</td>\n",
       "      <td>Privado</td>\n",
       "      <td>151910</td>\n",
       "      <td>Formado-EM</td>\n",
       "      <td>9</td>\n",
       "      <td>Viuvo</td>\n",
       "      <td>Assistente-administrativo</td>\n",
       "      <td>Nao-casado</td>\n",
       "      <td>Branco</td>\n",
       "      <td>Feminino</td>\n",
       "      <td>0</td>\n",
       "      <td>0</td>\n",
       "      <td>40</td>\n",
       "      <td>Brasil</td>\n",
       "      <td>&lt;=25K</td>\n",
       "    </tr>\n",
       "    <tr>\n",
       "      <th>32558</th>\n",
       "      <td>22</td>\n",
       "      <td>Privado</td>\n",
       "      <td>201490</td>\n",
       "      <td>Formado-EM</td>\n",
       "      <td>9</td>\n",
       "      <td>Nunca-casou</td>\n",
       "      <td>Assistente-administrativo</td>\n",
       "      <td>Filho-proprio</td>\n",
       "      <td>Branco</td>\n",
       "      <td>Masculino</td>\n",
       "      <td>0</td>\n",
       "      <td>0</td>\n",
       "      <td>20</td>\n",
       "      <td>Brasil</td>\n",
       "      <td>&lt;=25K</td>\n",
       "    </tr>\n",
       "    <tr>\n",
       "      <th>32559</th>\n",
       "      <td>52</td>\n",
       "      <td>Trabalhador-autonomo</td>\n",
       "      <td>287927</td>\n",
       "      <td>Formado-EM</td>\n",
       "      <td>9</td>\n",
       "      <td>Conjuge-civ-casado</td>\n",
       "      <td>Executivo-gerencial</td>\n",
       "      <td>Esposa</td>\n",
       "      <td>Branco</td>\n",
       "      <td>Feminino</td>\n",
       "      <td>15024</td>\n",
       "      <td>0</td>\n",
       "      <td>40</td>\n",
       "      <td>Brasil</td>\n",
       "      <td>&gt;25K</td>\n",
       "    </tr>\n",
       "  </tbody>\n",
       "</table>\n",
       "<p>30717 rows × 15 columns</p>\n",
       "</div>"
      ],
      "text/plain": [
       "       Idade        Classe de Trabalho  Peso Final              Educacao  \\\n",
       "0         50  Trabalhador-nao-autonomo       83311           Bacharelado   \n",
       "1         38                   Privado      215646            Formado-EM   \n",
       "2         53                   Privado      234721            2-colegial   \n",
       "3         28                   Privado      338409           Bacharelado   \n",
       "4         37                   Privado      284582              Mestrado   \n",
       "...      ...                       ...         ...                   ...   \n",
       "32555     27                   Privado      257302  Associacao-academica   \n",
       "32556     40                   Privado      154374            Formado-EM   \n",
       "32557     58                   Privado      151910            Formado-EM   \n",
       "32558     22                   Privado      201490            Formado-EM   \n",
       "32559     52      Trabalhador-autonomo      287927            Formado-EM   \n",
       "\n",
       "       Id_Educacao        Estado Civil                    Ocupacao  \\\n",
       "0               13  Conjuge-civ-casado         Executivo-gerencial   \n",
       "1                9          Divorciado                     Limpeza   \n",
       "2                7  Conjuge-civ-casado                     Limpeza   \n",
       "3               13  Conjuge-civ-casado  Profissional-especializado   \n",
       "4               14  Conjuge-civ-casado         Executivo-gerencial   \n",
       "...            ...                 ...                         ...   \n",
       "32555           12  Conjuge-civ-casado             Suporte-Tecnico   \n",
       "32556            9  Conjuge-civ-casado            Operador-maquina   \n",
       "32557            9               Viuvo   Assistente-administrativo   \n",
       "32558            9         Nunca-casou   Assistente-administrativo   \n",
       "32559            9  Conjuge-civ-casado         Executivo-gerencial   \n",
       "\n",
       "                     Relacao    Raca       Sexo  Ganho de Capital  \\\n",
       "0                     Marido  Branco  Masculino                 0   \n",
       "1      Nao-membro-da-familia  Branco  Masculino                 0   \n",
       "2                     Marido   Negro  Masculino                 0   \n",
       "3                     Esposa   Negro   Feminino                 0   \n",
       "4                     Esposa  Branco   Feminino                 0   \n",
       "...                      ...     ...        ...               ...   \n",
       "32555                 Esposa  Branco   Feminino                 0   \n",
       "32556                 Marido  Branco  Masculino                 0   \n",
       "32557             Nao-casado  Branco   Feminino                 0   \n",
       "32558          Filho-proprio  Branco  Masculino                 0   \n",
       "32559                 Esposa  Branco   Feminino             15024   \n",
       "\n",
       "       Perda de Capital  Horas-Por-Semana Nacionalidade Ganho Anual  \n",
       "0                     0                13        Brasil       <=25K  \n",
       "1                     0                40        Brasil       <=25K  \n",
       "2                     0                40        Brasil       <=25K  \n",
       "3                     0                40        Brasil       <=25K  \n",
       "4                     0                40        Brasil       <=25K  \n",
       "...                 ...               ...           ...         ...  \n",
       "32555                 0                38        Brasil       <=25K  \n",
       "32556                 0                40        Brasil        >25K  \n",
       "32557                 0                40        Brasil       <=25K  \n",
       "32558                 0                20        Brasil       <=25K  \n",
       "32559                 0                40        Brasil        >25K  \n",
       "\n",
       "[30717 rows x 15 columns]"
      ]
     },
     "execution_count": 2,
     "metadata": {},
     "output_type": "execute_result"
    }
   ],
   "source": [
    "df = pd.read_csv('adult2.csv',names=[\n",
    "        \"Idade\", \"Classe de Trabalho\", \"Peso Final\", \"Educacao\", \"Id_Educacao\", \"Estado Civil\",\n",
    "        \"Ocupacao\", \"Relacao\", \"Raca\", \"Sexo\", \"Ganho de Capital\", \"Perda de Capital\",\n",
    "        \"Horas-Por-Semana\", \"Nacionalidade\", \"Ganho Anual\"], # Traduzindo colunas para o português\n",
    "        sep=r'\\s*;\\s*',\n",
    "        engine='python',\n",
    "        na_values=\"?\", skiprows = 1).dropna() # Linha de código feita para excluir linhas que contém dados faltantes\n",
    "df"
   ]
  },
  {
   "cell_type": "markdown",
   "id": "a6b2f16d",
   "metadata": {},
   "source": [
    "## Gráficos\n",
    "#### Exibindo alguns gráficos para uma melhor compreensão do nosso dataset de forma geral"
   ]
  },
  {
   "cell_type": "markdown",
   "id": "4e1caf45",
   "metadata": {},
   "source": [
    "Gráfico abaixo utilizado como base pra o algoritmo de regressão linear"
   ]
  },
  {
   "cell_type": "markdown",
   "id": "770f8d03",
   "metadata": {},
   "source": [
    "### Idade (Gráfico idade X quantidade de pessoas)"
   ]
  },
  {
   "cell_type": "code",
   "execution_count": 3,
   "id": "5027c2c0",
   "metadata": {},
   "outputs": [
    {
     "data": {
      "image/png": "[encoded data removed]",
      "text/plain": [
       "<Figure size 600x400 with 1 Axes>"
      ]
     },
     "metadata": {
      "needs_background": "light"
     },
     "output_type": "display_data"
    }
   ],
   "source": [
    "# Dicionário criado para o armazenamento de dados e para facilitar na hora de plotar o gráfico\n",
    "idadeData = df['Idade'].value_counts().to_dict()\n",
    "\n",
    "#Eixo X do gráfico\n",
    "xAxis = [key for key in idadeData]\n",
    "\n",
    "#Eixo Y do gráfico\n",
    "yAxis = [idadeData[key] for key in idadeData]\n",
    "\n",
    "# Gráfico de dispersão\n",
    "plt.scatter(xAxis, yAxis)\n",
    "\n",
    "# Legenda do eixo X\n",
    "plt.xlabel('Idade')\n",
    "\n",
    "# Legenda do eixo Y\n",
    "plt.ylabel('Quantidade de Pessoas');\n",
    "\n",
    "# Plotando o gráfico de idade vs Quantidade de Pessoas"
   ]
  },
  {
   "cell_type": "markdown",
   "id": "09e02a16",
   "metadata": {},
   "source": [
    "### Aplicando o algoritmo de Regressão Linear"
   ]
  },
  {
   "cell_type": "code",
   "execution_count": 4,
   "id": "a63b7015",
   "metadata": {},
   "outputs": [
    {
     "data": {
      "text/html": [
       "<div>\n",
       "<style scoped>\n",
       "    .dataframe tbody tr th:only-of-type {\n",
       "        vertical-align: middle;\n",
       "    }\n",
       "\n",
       "    .dataframe tbody tr th {\n",
       "        vertical-align: top;\n",
       "    }\n",
       "\n",
       "    .dataframe thead th {\n",
       "        text-align: right;\n",
       "    }\n",
       "</style>\n",
       "<table border=\"1\" class=\"dataframe\">\n",
       "  <thead>\n",
       "    <tr style=\"text-align: right;\">\n",
       "      <th></th>\n",
       "      <th>Idade</th>\n",
       "      <th>Quantidade de Pessoas</th>\n",
       "    </tr>\n",
       "  </thead>\n",
       "  <tbody>\n",
       "    <tr>\n",
       "      <th>0</th>\n",
       "      <td>36</td>\n",
       "      <td>875</td>\n",
       "    </tr>\n",
       "    <tr>\n",
       "      <th>1</th>\n",
       "      <td>31</td>\n",
       "      <td>869</td>\n",
       "    </tr>\n",
       "    <tr>\n",
       "      <th>2</th>\n",
       "      <td>34</td>\n",
       "      <td>860</td>\n",
       "    </tr>\n",
       "    <tr>\n",
       "      <th>3</th>\n",
       "      <td>37</td>\n",
       "      <td>849</td>\n",
       "    </tr>\n",
       "    <tr>\n",
       "      <th>4</th>\n",
       "      <td>33</td>\n",
       "      <td>849</td>\n",
       "    </tr>\n",
       "    <tr>\n",
       "      <th>...</th>\n",
       "      <td>...</td>\n",
       "      <td>...</td>\n",
       "    </tr>\n",
       "    <tr>\n",
       "      <th>67</th>\n",
       "      <td>82</td>\n",
       "      <td>7</td>\n",
       "    </tr>\n",
       "    <tr>\n",
       "      <th>68</th>\n",
       "      <td>83</td>\n",
       "      <td>5</td>\n",
       "    </tr>\n",
       "    <tr>\n",
       "      <th>69</th>\n",
       "      <td>85</td>\n",
       "      <td>3</td>\n",
       "    </tr>\n",
       "    <tr>\n",
       "      <th>70</th>\n",
       "      <td>88</td>\n",
       "      <td>3</td>\n",
       "    </tr>\n",
       "    <tr>\n",
       "      <th>71</th>\n",
       "      <td>86</td>\n",
       "      <td>1</td>\n",
       "    </tr>\n",
       "  </tbody>\n",
       "</table>\n",
       "<p>72 rows × 2 columns</p>\n",
       "</div>"
      ],
      "text/plain": [
       "    Idade  Quantidade de Pessoas\n",
       "0      36                    875\n",
       "1      31                    869\n",
       "2      34                    860\n",
       "3      37                    849\n",
       "4      33                    849\n",
       "..    ...                    ...\n",
       "67     82                      7\n",
       "68     83                      5\n",
       "69     85                      3\n",
       "70     88                      3\n",
       "71     86                      1\n",
       "\n",
       "[72 rows x 2 columns]"
      ]
     },
     "execution_count": 4,
     "metadata": {},
     "output_type": "execute_result"
    }
   ],
   "source": [
    "# Criando o dataset para regressão linear\n",
    "df_reg = pd.DataFrame(list(zip(xAxis,yAxis)), columns = ['Idade','Quantidade de Pessoas'])\n",
    "df_reg"
   ]
  },
  {
   "cell_type": "code",
   "execution_count": 5,
   "id": "c29aef42",
   "metadata": {},
   "outputs": [],
   "source": [
    "# Pegando os parâmetros para aplicar o algoritmo\n",
    "X = df_reg['Idade'].values\n",
    "Y = df_reg['Quantidade de Pessoas'].values"
   ]
  },
  {
   "cell_type": "code",
   "execution_count": 6,
   "id": "9192208b",
   "metadata": {
    "scrolled": true
   },
   "outputs": [],
   "source": [
    "# Função Regressão Linear\n",
    "linear = LinearRegression()"
   ]
  },
  {
   "cell_type": "code",
   "execution_count": 7,
   "id": "bb5f9d3a",
   "metadata": {},
   "outputs": [],
   "source": [
    "# Ajustando Valores de X\n",
    "X = X.reshape([-1, 1])"
   ]
  },
  {
   "cell_type": "code",
   "execution_count": 8,
   "id": "28142b94",
   "metadata": {},
   "outputs": [
    {
     "data": {
      "text/plain": [
       "LinearRegression()"
      ]
     },
     "execution_count": 8,
     "metadata": {},
     "output_type": "execute_result"
    }
   ],
   "source": [
    "# Ajustando parâmetros\n",
    "linear.fit(X,Y)"
   ]
  },
  {
   "cell_type": "code",
   "execution_count": 9,
   "id": "1cd2fcfa",
   "metadata": {},
   "outputs": [],
   "source": [
    "# Treinando e testando o modelo\n",
    "X_train, X_test, y_train, y_test = train_test_split(X, Y, test_size = 0.30, random_state = 13)"
   ]
  },
  {
   "cell_type": "code",
   "execution_count": 10,
   "id": "55185c6c",
   "metadata": {},
   "outputs": [
    {
     "data": {
      "text/plain": [
       "LinearRegression()"
      ]
     },
     "execution_count": 10,
     "metadata": {},
     "output_type": "execute_result"
    }
   ],
   "source": [
    "# Ajustando parâmetros\n",
    "linear.fit(X_test,y_test)"
   ]
  },
  {
   "cell_type": "code",
   "execution_count": 11,
   "id": "942d15cd",
   "metadata": {},
   "outputs": [],
   "source": [
    "# Coeficiente angular \n",
    "coef_angular = linear.coef_[0]"
   ]
  },
  {
   "cell_type": "code",
   "execution_count": 12,
   "id": "3628c7eb",
   "metadata": {},
   "outputs": [],
   "source": [
    "# Coeficiente linear\n",
    "coef_linear = linear.intercept_"
   ]
  },
  {
   "cell_type": "code",
   "execution_count": 13,
   "id": "02fa0dd8",
   "metadata": {},
   "outputs": [
    {
     "name": "stdout",
     "output_type": "stream",
     "text": [
      "Coeficiente angular = -16.25952175419111\n",
      "Coeficiente linear = 1314.3263980909755\n"
     ]
    }
   ],
   "source": [
    "print(f\"Coeficiente angular = {coef_angular}\")\n",
    "print(f\"Coeficiente linear = {coef_linear}\")"
   ]
  },
  {
   "cell_type": "code",
   "execution_count": 14,
   "id": "054c21c9",
   "metadata": {},
   "outputs": [],
   "source": [
    "# Equação da reta\n",
    "reta = coef_angular*X+coef_linear"
   ]
  },
  {
   "cell_type": "code",
   "execution_count": 15,
   "id": "c8d347d4",
   "metadata": {},
   "outputs": [
    {
     "data": {
      "image/png": "[encoded data removed]",
      "text/plain": [
       "<Figure size 600x400 with 1 Axes>"
      ]
     },
     "metadata": {
      "needs_background": "light"
     },
     "output_type": "display_data"
    }
   ],
   "source": [
    "# Plotando a reta\n",
    "plt.scatter(X,Y,label = 'Y(X)');\n",
    "plt.plot(X,reta,label = 'Ajuste Linear',color = 'red')\n",
    "plt.xlabel('Idade');\n",
    "plt.ylabel('Quantidade de Pessoas');\n",
    "plt.legend();"
   ]
  },
  {
   "cell_type": "markdown",
   "id": "1ffc2a7f",
   "metadata": {},
   "source": [
    "### Testando o algoritmo de Regressão Linear"
   ]
  },
  {
   "cell_type": "code",
   "execution_count": 16,
   "id": "07bc2df8",
   "metadata": {},
   "outputs": [
    {
     "data": {
      "text/plain": [
       "array([631.42648441, 972.87644125, 338.75509284, 647.68600617,\n",
       "       306.23604933, -18.95438575, 468.83126687, -83.99247277,\n",
       "       859.05978897, 241.19796231, 111.12178828, 712.72409319,\n",
       "       615.16696266, 322.49557109, 436.31222336,  78.60274477,\n",
       "        46.08370126, 728.98361494, 403.79317986, -67.73295102,\n",
       "       777.7621802 ,  13.56465776])"
      ]
     },
     "execution_count": 16,
     "metadata": {},
     "output_type": "execute_result"
    }
   ],
   "source": [
    "# Valores preditos\n",
    "Y_pred = linear.predict(X_test)\n",
    "Y_pred"
   ]
  },
  {
   "cell_type": "code",
   "execution_count": 17,
   "id": "a49f30df",
   "metadata": {},
   "outputs": [
    {
     "data": {
      "text/plain": [
       "array([765, 631, 281, 790, 216,   7, 464,   1, 826, 113,  39, 849, 757,\n",
       "       264, 399,  30,  14, 875, 353,   3, 849,  16], dtype=int64)"
      ]
     },
     "execution_count": 17,
     "metadata": {},
     "output_type": "execute_result"
    }
   ],
   "source": [
    "# Valores reais\n",
    "y_test"
   ]
  },
  {
   "cell_type": "code",
   "execution_count": 18,
   "id": "61e629f9",
   "metadata": {},
   "outputs": [
    {
     "name": "stdout",
     "output_type": "stream",
     "text": [
      "MAE = 110.50907890854243\n",
      "RMSE = 161.2353894994375\n"
     ]
    }
   ],
   "source": [
    "MAE = mean_absolute_error(Y,reta) # Média da diferença absoluta entre o realizado e o previso\n",
    "RMSE = np.sqrt(mean_squared_error(Y,reta)) # Desvio padrão da amostra da diferença entre o previsto e o teste\n",
    "\n",
    "print(f\"MAE = {MAE}\")\n",
    "print(f\"RMSE = {RMSE}\")"
   ]
  },
  {
   "cell_type": "markdown",
   "id": "897ca5e2",
   "metadata": {},
   "source": [
    "### Avaliando o algoritmo de Regressão Linear"
   ]
  },
  {
   "cell_type": "code",
   "execution_count": 19,
   "id": "9b117ee3",
   "metadata": {},
   "outputs": [
    {
     "data": {
      "text/plain": [
       "0.8871617574335577"
      ]
     },
     "execution_count": 19,
     "metadata": {},
     "output_type": "execute_result"
    }
   ],
   "source": [
    "linear.score(X_test,y_test)"
   ]
  },
  {
   "cell_type": "markdown",
   "id": "2c04c101",
   "metadata": {},
   "source": [
    "### Persistindo o algoritmo de Regressão Linear com o joblib  "
   ]
  },
  {
   "cell_type": "code",
   "execution_count": 20,
   "id": "546e5fec",
   "metadata": {},
   "outputs": [
    {
     "data": {
      "text/plain": [
       "['LIN_SocioTorcedor.sav']"
      ]
     },
     "execution_count": 20,
     "metadata": {},
     "output_type": "execute_result"
    }
   ],
   "source": [
    "# Joblib fornece uma maneira melhor de evitar recomputar a mesma função repetidamente, economizando muito tempo e \n",
    "# custo computacional.\n",
    "arq_lin = 'LIN_SocioTorcedor.sav'\n",
    "joblib.dump(linear,arq_lin)"
   ]
  },
  {
   "cell_type": "markdown",
   "id": "23cc3a85",
   "metadata": {},
   "source": [
    "#### Joblib fornece uma maneira melhor de evitar recomputar a mesma função repetidamente, economizando muito tempo e custo computacional."
   ]
  },
  {
   "cell_type": "code",
   "execution_count": 21,
   "id": "a52fcecf",
   "metadata": {},
   "outputs": [
    {
     "name": "stdout",
     "output_type": "stream",
     "text": [
      "0.8871617574335577\n"
     ]
    }
   ],
   "source": [
    "lin_carregado = joblib.load(arq_lin)\n",
    "resultado = lin_carregado.score(X_test, y_test)\n",
    "print(resultado)"
   ]
  },
  {
   "cell_type": "markdown",
   "id": "5fda64bc",
   "metadata": {},
   "source": [
    "#### ACURÁCIA FINAL = 88,7%"
   ]
  },
  {
   "cell_type": "markdown",
   "id": "5c7b6094",
   "metadata": {},
   "source": [
    "### Idade (Gráfico idade X % Pessoas que ganham mais ou menos que 25K)"
   ]
  },
  {
   "cell_type": "code",
   "execution_count": 22,
   "id": "a32df170",
   "metadata": {},
   "outputs": [
    {
     "data": {
      "image/png": "[encoded data removed]",
      "text/plain": [
       "<Figure size 600x400 with 1 Axes>"
      ]
     },
     "metadata": {
      "needs_background": "light"
     },
     "output_type": "display_data"
    }
   ],
   "source": [
    "# Dicionário criado para relacionar a idade com o ganho anual de cada pessoa\n",
    "idadeTargetData = {}\n",
    "\n",
    "# laço for feito para separar dentro do dicionário as pessoas de acordo com o ganho anual  \n",
    "for index, element in enumerate(df['Idade']):\n",
    "    if index in df['Ganho Anual']:\n",
    "        if element not in idadeTargetData:\n",
    "            if df['Ganho Anual'][index] == '<=25K':\n",
    "                idadeTargetData[element] = [1,0]\n",
    "            else:\n",
    "                idadeTargetData[element] = [0,1]\n",
    "        else:\n",
    "            if df['Ganho Anual'][index] == '<=25K':\n",
    "                idadeTargetData[element][0] +=1\n",
    "            else:\n",
    "                idadeTargetData[element][1] += 1\n",
    "\n",
    "# Eixo X\n",
    "xAxis = [key for key in idadeTargetData]\n",
    "\n",
    "# Eixo Y (Separado em dois, um para as pessoas que ganham menos de 25K, outro para as pessoas que ganham mais de 25K)\n",
    "y1Axis = [100*idadeTargetData[key][0]/(idadeTargetData[key][0]+idadeTargetData[key][1]) for key in idadeTargetData]\n",
    "y2Axis = [100*idadeTargetData[key][1]/(idadeTargetData[key][0]+idadeTargetData[key][1]) for key in idadeTargetData]\n",
    "\n",
    "# Gráfico de dispersão vermelho relacionado às pessoas que ganham menos que 25K\n",
    "plt.scatter(xAxis, y1Axis, label = '<=25K', color = 'red')\n",
    "\n",
    "# Gráfico de dispersão verde relacionado às pessoas que ganham mais que 25K\n",
    "plt.scatter(xAxis, y2Axis, label = '>25K', color = 'green')\n",
    "\n",
    "# Plotar legenda\n",
    "plt.legend()\n",
    "\n",
    "# Legenda do eixo X\n",
    "plt.xlabel('Idade')\n",
    "\n",
    "# Legenda do eixo Y\n",
    "plt.ylabel('% Pessoas que ganham \\nmais ou menos que 25K');\n",
    "\n",
    "# Plotando gráfico idade X % Pessoas que ganham mais ou menos que 25K"
   ]
  },
  {
   "cell_type": "markdown",
   "id": "fec146be",
   "metadata": {},
   "source": [
    "### Classe de Trabalho (Gráfico Classes de trabalho X Quantidade de pessoas)"
   ]
  },
  {
   "cell_type": "code",
   "execution_count": 23,
   "id": "0f5ba1e2",
   "metadata": {},
   "outputs": [
    {
     "data": {
      "image/png": "[encoded data removed]",
      "text/plain": [
       "<Figure size 600x400 with 1 Axes>"
      ]
     },
     "metadata": {
      "needs_background": "light"
     },
     "output_type": "display_data"
    }
   ],
   "source": [
    "# Pegando os valores da coluna de classe de trabalho para cada classe\n",
    "df['Classe de Trabalho'].value_counts().plot(kind='bar')\n",
    "\n",
    "# Eixo X\n",
    "plt.xlabel('Classe de Trabalho')\n",
    "\n",
    "# Eixo Y\n",
    "plt.ylabel('Quantidade de Pessoas');\n",
    "\n",
    "# Plotando gráfico Classes de trabalho X Quantidade de pessoas"
   ]
  },
  {
   "cell_type": "markdown",
   "id": "83c96ae3",
   "metadata": {},
   "source": [
    "O mesmo procedimento é repetido pra os gráficos de Educação, Raça e Sexo"
   ]
  },
  {
   "cell_type": "markdown",
   "id": "a5c5569b",
   "metadata": {},
   "source": [
    "### Educação (Gráfico Formação educacional X Quantidade de pessoas)"
   ]
  },
  {
   "cell_type": "code",
   "execution_count": 24,
   "id": "c883529f",
   "metadata": {},
   "outputs": [
    {
     "data": {
      "image/png": "[encoded data removed]",
      "text/plain": [
       "<Figure size 600x400 with 1 Axes>"
      ]
     },
     "metadata": {
      "needs_background": "light"
     },
     "output_type": "display_data"
    }
   ],
   "source": [
    "df['Educacao'].value_counts().plot(kind='bar')\n",
    "plt.xlabel('Educação')\n",
    "plt.ylabel('Quantidade de Pessoas');"
   ]
  },
  {
   "cell_type": "markdown",
   "id": "6cbb2b8f",
   "metadata": {},
   "source": [
    "### Raça (Gráfico Raças X Quantidade de pessoas)"
   ]
  },
  {
   "cell_type": "code",
   "execution_count": 25,
   "id": "00d97cc2",
   "metadata": {},
   "outputs": [
    {
     "data": {
      "image/png": "[encoded data removed]",
      "text/plain": [
       "<Figure size 600x400 with 1 Axes>"
      ]
     },
     "metadata": {
      "needs_background": "light"
     },
     "output_type": "display_data"
    }
   ],
   "source": [
    "df['Raca'].value_counts().plot(kind='bar')\n",
    "plt.xlabel('Raça')\n",
    "plt.ylabel('Quantidade de Pessoas');"
   ]
  },
  {
   "cell_type": "markdown",
   "id": "f91bd6d7",
   "metadata": {},
   "source": [
    "### Sexo"
   ]
  },
  {
   "cell_type": "code",
   "execution_count": 26,
   "id": "578b256b",
   "metadata": {},
   "outputs": [
    {
     "data": {
      "image/png": "[encoded data removed]",
      "text/plain": [
       "<Figure size 600x400 with 1 Axes>"
      ]
     },
     "metadata": {},
     "output_type": "display_data"
    }
   ],
   "source": [
    "df['Sexo'].value_counts().plot(kind='pie')\n",
    "plt.xlabel('Sexo')\n",
    "plt.ylabel('Quantidade de Pessoas');"
   ]
  },
  {
   "cell_type": "markdown",
   "id": "4f5a3d0c",
   "metadata": {},
   "source": [
    "### Conclusão\n",
    "Uma regressão linear deve ser usada basicamente quando se deseja realizar projeções e estudar a relação entre duas variáveis. No entanto, muitas vezes dada a natureza dos dados, não podemos estimar um modelo de regressão linear."
   ]
  }
 ],
 "metadata": {
  "kernelspec": {
   "display_name": "Python 3",
   "language": "python",
   "name": "python3"
  },
  "language_info": {
   "codemirror_mode": {
    "name": "ipython",
    "version": 3
   },
   "file_extension": ".py",
   "mimetype": "text/x-python",
   "name": "python",
   "nbconvert_exporter": "python",
   "pygments_lexer": "ipython3",
   "version": "3.8.8"
  }
 },
 "nbformat": 4,
 "nbformat_minor": 5
}
